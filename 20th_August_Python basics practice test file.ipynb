{
 "cells": [
  {
   "cell_type": "markdown",
   "id": "0da41a8f-2d4c-402a-8fd2-ec4d6d1c7899",
   "metadata": {},
   "source": [
    "# String Based Problems---------------\n",
    "\n"
   ]
  },
  {
   "cell_type": "code",
   "execution_count": 1,
   "id": "0676f41e-7fec-4268-bc4d-6a7c016ce18e",
   "metadata": {},
   "outputs": [
    {
     "name": "stdin",
     "output_type": "stream",
     "text": [
      "Enter a string: hello\n"
     ]
    },
    {
     "name": "stdout",
     "output_type": "stream",
     "text": [
      "Reversed string: olleh\n"
     ]
    }
   ],
   "source": [
    "#1 program to reverse a string\n",
    "\n",
    "string = input(\"Enter a string:\")\n",
    "string = string[::-1]\n",
    "print(\"Reversed string:\",string)"
   ]
  },
  {
   "cell_type": "code",
   "execution_count": 11,
   "id": "a22d9b9c-9a4e-4bd5-883a-52a1b8b82f55",
   "metadata": {},
   "outputs": [
    {
     "name": "stdin",
     "output_type": "stream",
     "text": [
      "Enter a string: WOW\n"
     ]
    },
    {
     "name": "stdout",
     "output_type": "stream",
     "text": [
      "WOW is pallindrome\n"
     ]
    }
   ],
   "source": [
    "#2 check if a string is pallindrome\n",
    "\n",
    "string1 = input(\"Enter a string:\")\n",
    "string2 = string1.lower()\n",
    "if string2[::-1] == string2 :\n",
    "    print(f\"{string1} is pallindrome\")\n",
    "else:\n",
    "    print(f\"{string1} is not pallindrome\")"
   ]
  },
  {
   "cell_type": "code",
   "execution_count": 12,
   "id": "e45bcc16-274d-4da7-b2d5-b091350105e9",
   "metadata": {},
   "outputs": [
    {
     "name": "stdin",
     "output_type": "stream",
     "text": [
      "Enter a string: heki\n"
     ]
    },
    {
     "name": "stdout",
     "output_type": "stream",
     "text": [
      "HEKI\n"
     ]
    }
   ],
   "source": [
    "#3 convert string to uppercase\n",
    "\n",
    "string3 = input(\"Enter a string:\")\n",
    "string4 = string3.upper()\n",
    "print(string4)"
   ]
  },
  {
   "cell_type": "code",
   "execution_count": 13,
   "id": "fe615c20-0ef4-462b-9d58-f2acafc4bfe1",
   "metadata": {},
   "outputs": [
    {
     "name": "stdin",
     "output_type": "stream",
     "text": [
      "Enter a string: HELLO\n"
     ]
    },
    {
     "name": "stdout",
     "output_type": "stream",
     "text": [
      "hello\n"
     ]
    }
   ],
   "source": [
    "#4 convert string to lowercase\n",
    "\n",
    "string3 = input(\"Enter a string:\")\n",
    "string4 = string3.lower()\n",
    "print(string4)"
   ]
  },
  {
   "cell_type": "code",
   "execution_count": 26,
   "id": "06059493-16a2-4686-8b47-70cc6b1738ee",
   "metadata": {},
   "outputs": [
    {
     "name": "stdin",
     "output_type": "stream",
     "text": [
      "Enter a string: America\n"
     ]
    },
    {
     "name": "stdout",
     "output_type": "stream",
     "text": [
      "4\n"
     ]
    }
   ],
   "source": [
    "#5 count the number of vowels in a string\n",
    "\n",
    "string4 = input(\"Enter a string:\").lower()\n",
    "vowels = ('a','e','i','o','u')\n",
    "count = 0\n",
    "for i in range (len(string4)):\n",
    "    if string4[i] in vowels:\n",
    "        count+=1\n",
    "print(count)        "
   ]
  },
  {
   "cell_type": "code",
   "execution_count": 87,
   "id": "b2c07419-6941-415e-93c0-b5d8a69ff3dd",
   "metadata": {},
   "outputs": [
    {
     "name": "stdin",
     "output_type": "stream",
     "text": [
      "Enter a string: hello\n"
     ]
    },
    {
     "name": "stdout",
     "output_type": "stream",
     "text": [
      "Number of consonants: 3\n"
     ]
    }
   ],
   "source": [
    "#6 count the number of consonants in a string\n",
    "\n",
    "string4 = input(\"Enter a string:\").lower()\n",
    "vowels = ('a','e','i','o','u')\n",
    "count = 0\n",
    "for i in range (len(string4)):\n",
    "    if string4[i] not in vowels:\n",
    "        count+=1\n",
    "print(\"Number of consonants:\",count)        "
   ]
  },
  {
   "cell_type": "code",
   "execution_count": 46,
   "id": "441cb651-eae5-4b6e-81e6-fdcb4b66c9af",
   "metadata": {},
   "outputs": [
    {
     "name": "stdin",
     "output_type": "stream",
     "text": [
      "Enter a string: hello how are you\n"
     ]
    },
    {
     "name": "stdout",
     "output_type": "stream",
     "text": [
      "hellohowareyou\n"
     ]
    }
   ],
   "source": [
    "#7 remove all whitespaces from string\n",
    "\n",
    "string5 = input(\"Enter a string:\")\n",
    "string5  = string5.replace(\" \",\"\")\n",
    "print(string5)\n"
   ]
  },
  {
   "cell_type": "code",
   "execution_count": 47,
   "id": "a22bf3db-2e19-4c3d-9e99-b0748f65376d",
   "metadata": {},
   "outputs": [
    {
     "name": "stdin",
     "output_type": "stream",
     "text": [
      "Enter a string: hello\n"
     ]
    },
    {
     "name": "stdout",
     "output_type": "stream",
     "text": [
      "Length of string: 5\n"
     ]
    }
   ],
   "source": [
    "#8 find the length of strng without using len function\n",
    "\n",
    "string6 = input(\"Enter a string:\")\n",
    "count = 0\n",
    "for i in string6:\n",
    "    count+=1\n",
    "print(\"Length of string:\",count)    \n"
   ]
  },
  {
   "cell_type": "code",
   "execution_count": 60,
   "id": "da7c6e6a-52e2-4863-b433-ba177eb57547",
   "metadata": {},
   "outputs": [
    {
     "name": "stdout",
     "output_type": "stream",
     "text": [
      "string contains specific word\n"
     ]
    }
   ],
   "source": [
    "#9 check if string contains a specific word\n",
    "\n",
    "string7 = \"Hello how are you?\"\n",
    "search = \"Hello\"\n",
    "if string7.find(search)!=-1:\n",
    "    print(\"string contains specific word\")\n",
    "else:\n",
    "    print(\"string doesn't contains specific word\")"
   ]
  },
  {
   "cell_type": "code",
   "execution_count": 3,
   "id": "dab1c027-2bcc-4f6a-8e09-3b77efef897e",
   "metadata": {},
   "outputs": [
    {
     "name": "stdout",
     "output_type": "stream",
     "text": [
      "After replacemnt: Hello how are you\n"
     ]
    }
   ],
   "source": [
    "#10 replace a word in string using another word\n",
    "\n",
    "string8 = \"Hello how am you\"\n",
    "r = \"are\"\n",
    "print(\"After replacemnt:\",string8.replace(\"am\",r))\n"
   ]
  },
  {
   "cell_type": "code",
   "execution_count": 9,
   "id": "ab95d38b-d670-4afc-9966-ed420e47ecab",
   "metadata": {},
   "outputs": [
    {
     "name": "stdout",
     "output_type": "stream",
     "text": [
      "Number of occurrences of world in sentence is 3\n"
     ]
    }
   ],
   "source": [
    "#11 count the occurrence of a word in a string\n",
    "\n",
    "sentence = \"Hello world, this world is precious and this world is beautifull\"\n",
    "word = \"world\"\n",
    "print(f\"Number of occurrences of {word} in sentence is\",sentence.count(\"world\"))"
   ]
  },
  {
   "cell_type": "code",
   "execution_count": 17,
   "id": "6d6706a0-8bc1-475a-8e77-cd8920977f2a",
   "metadata": {},
   "outputs": [
    {
     "name": "stdout",
     "output_type": "stream",
     "text": [
      "First occurrence of is is at index 8\n"
     ]
    }
   ],
   "source": [
    "#12 find the first occurrence of a word in a string\n",
    "\n",
    "string9 = \"my name is R,my role is backend developer\"\n",
    "fo = \"is\"\n",
    "index = string9.find(o)\n",
    "if index!=-1:\n",
    "    print(f\"First occurrence of {o} is at index {index}\")\n",
    "else:\n",
    "    print(\"No occurrences\")"
   ]
  },
  {
   "cell_type": "code",
   "execution_count": 19,
   "id": "c07d36b0-e39d-43ee-8657-1331eb2aa3c0",
   "metadata": {},
   "outputs": [
    {
     "name": "stdout",
     "output_type": "stream",
     "text": [
      "Last occurrence of is is at index 13\n"
     ]
    }
   ],
   "source": [
    "#13 find the last occurrence of a word in a string\n",
    "\n",
    "sentence1 = \"Hello is are is\"\n",
    "lo = \"is\"\n",
    "index = sentence1.rfind(lo)\n",
    "if index!=-1:\n",
    "    print(f\"Last occurrence of {lo} is at index {index}\")\n",
    "else:\n",
    "    print(\"No occurrences\")"
   ]
  },
  {
   "cell_type": "code",
   "execution_count": 75,
   "id": "62681cba-5c04-4324-a1f0-ba92bae240e5",
   "metadata": {},
   "outputs": [
    {
     "name": "stdout",
     "output_type": "stream",
     "text": [
      "['hello', 'world!', 'my', 'first', 'program']\n"
     ]
    }
   ],
   "source": [
    "#14 split a string into a list of words\n",
    "\n",
    "string10 = \"hello     world!   my first program\"\n",
    "l = string10.split()\n",
    "print(l)"
   ]
  },
  {
   "cell_type": "code",
   "execution_count": 86,
   "id": "d6e85a57-919d-4da4-8d19-45fb7edb2a7e",
   "metadata": {},
   "outputs": [
    {
     "name": "stdout",
     "output_type": "stream",
     "text": [
      "hello world! my first program \n"
     ]
    }
   ],
   "source": [
    "#15 Join a list of words into a string\n",
    "\n",
    "l_words = ['hello', 'world!', 'my', 'first', 'program']\n",
    "string =\"\"\n",
    "for i in l_words:\n",
    "    string = string +i+\" \"\n",
    "print(string)\n",
    "\n",
    "\n",
    "#(another method using join)\n",
    "#separator =\" \"\n",
    "#print(separator.join(l_words))          "
   ]
  },
  {
   "cell_type": "code",
   "execution_count": 21,
   "id": "ca638510-59d5-43c2-a8b4-8a4a8160a15b",
   "metadata": {},
   "outputs": [
    {
     "name": "stdout",
     "output_type": "stream",
     "text": [
      "Hi,_it_was_nice_too_meet_you\n"
     ]
    }
   ],
   "source": [
    "#16 Convert a string where words are seperated by spaces to one where words are seperated by underscores.\n",
    "\n",
    "string12 =  \"Hi, it was nice too meet you\"\n",
    "string13 = string12.replace(\" \",\"_\")\n",
    "print(string13)"
   ]
  },
  {
   "cell_type": "code",
   "execution_count": 45,
   "id": "8b1ca5b7-d746-4e69-aa86-14508c135bd9",
   "metadata": {},
   "outputs": [
    {
     "name": "stdout",
     "output_type": "stream",
     "text": [
      "String starts with Hello how\n"
     ]
    }
   ],
   "source": [
    "#17 To check if a string starts with a specific word or phrase\n",
    "\n",
    "string11 = \"Hello how are you\"\n",
    "check_string = \"Hello how\"\n",
    "if string11.find(check_string)==0:\n",
    "    print(f\"String starts with {check_string}\")\n",
    "else:\n",
    "    print(f\"No,string doesnt start with {check_string}\")\n",
    "    "
   ]
  },
  {
   "cell_type": "code",
   "execution_count": 56,
   "id": "37a864d8-c4f5-412d-a458-098f192efe84",
   "metadata": {},
   "outputs": [
    {
     "name": "stdout",
     "output_type": "stream",
     "text": [
      "String ends with you\n"
     ]
    }
   ],
   "source": [
    "#18 Check if a string ends with a specific word or phrase\n",
    "\n",
    "string14 = \"Hello how are you\"\n",
    "check_string = \"you\"\n",
    "if string14[-len(check_string):] == check_string:\n",
    "     print(f\"String ends with {check_string}\")\n",
    "else:\n",
    "    print(f\"No,string ends start with {check_string}\")\n",
    "    "
   ]
  },
  {
   "cell_type": "code",
   "execution_count": 57,
   "id": "a0394229-6322-4469-96da-240f4a168f22",
   "metadata": {},
   "outputs": [
    {
     "name": "stdout",
     "output_type": "stream",
     "text": [
      "Hello World\n"
     ]
    }
   ],
   "source": [
    "#19 convert a string to title case\n",
    "\n",
    "string15 = \"Hello world\"\n",
    "print(string15.title())"
   ]
  },
  {
   "cell_type": "code",
   "execution_count": 117,
   "id": "2034d984-8fbf-42e9-ad0a-6ab699bc7692",
   "metadata": {},
   "outputs": [
    {
     "name": "stdout",
     "output_type": "stream",
     "text": [
      "hello\n"
     ]
    }
   ],
   "source": [
    "#20 find the longest word in a string\n",
    "\n",
    "string16 = \"hello how are you\"\n",
    "l = string16.split()    #split the string into list of words\n",
    "if not l:\n",
    "    print(\"String is empty\")\n",
    "else:\n",
    "    max_size = 0\n",
    "    max_word = l[0]\n",
    "    for a in l:             #iterate each word to compare length of word and assign to max_word\n",
    "        size = len(a)\n",
    "        if max_size<size:\n",
    "            max_size = size\n",
    "            max_word = a\n",
    "    print(max_word)  "
   ]
  },
  {
   "cell_type": "code",
   "execution_count": 6,
   "id": "f9a06fed-363e-4c5b-a5b4-9fb8f6255d24",
   "metadata": {},
   "outputs": [
    {
     "name": "stdout",
     "output_type": "stream",
     "text": [
      "S\n"
     ]
    }
   ],
   "source": [
    "#21 find the shortest word in a string\n",
    "\n",
    "string16 = \"hello S how are you\"\n",
    "l = string16.split()    #split the string into list of words\n",
    "if not l:\n",
    "    print(\"String is empty\")\n",
    "else:\n",
    "    min_word = l[0]\n",
    "    for a in l:             #iterate each word to compare length of word and assign to max_word\n",
    "        size = len(a)\n",
    "        if size<len(min_word):\n",
    "            min_word = a\n",
    "    print(min_word)  "
   ]
  },
  {
   "cell_type": "code",
   "execution_count": 14,
   "id": "781e843f-19b2-4876-b151-e7019bbe9e2a",
   "metadata": {},
   "outputs": [
    {
     "name": "stdout",
     "output_type": "stream",
     "text": [
      "sir sudhanshu by conducted is session This\n"
     ]
    }
   ],
   "source": [
    "#22 Reverse the order of words in a string\n",
    "\n",
    "string17 = \"This session is conducted by sudhanshu sir\"\n",
    "list_words = string17.split()\n",
    "print(\" \".join(list_words[::-1]))"
   ]
  },
  {
   "cell_type": "code",
   "execution_count": 44,
   "id": "0a92ad1c-570d-4593-900a-452b2e026390",
   "metadata": {},
   "outputs": [
    {
     "name": "stdout",
     "output_type": "stream",
     "text": [
      "String is alphanumeric\n"
     ]
    }
   ],
   "source": [
    "#23 Check if a string is alphanumeric\n",
    "\n",
    "string18 = \"area51\"\n",
    "if (not (string18.isalpha()) and not(string18.isnumeric()) and string18.isalnum()):\n",
    "    print(\"String is alphanumeric\")\n",
    "else:\n",
    "    print(\"String is not alphanumeric\")"
   ]
  },
  {
   "cell_type": "code",
   "execution_count": 59,
   "id": "8526eee5-4334-4efb-bf43-d8a9cd9d4465",
   "metadata": {},
   "outputs": [
    {
     "name": "stdout",
     "output_type": "stream",
     "text": [
      "All digits are [5, 1, 8, 9]\n"
     ]
    }
   ],
   "source": [
    "#24 Extract all digits from a string\n",
    "\n",
    "string19 = \"Hello, area51 8 9 \"\n",
    "digit_list = []\n",
    "digit_list = [int(string19[i]) for i in range (len(string19)) if string19[i].isnumeric()]   #list comprehension\n",
    "print(f\"All digits are {digit_list}\")"
   ]
  },
  {
   "cell_type": "code",
   "execution_count": 62,
   "id": "5a66a51b-79b0-452d-bb77-39c2fed4f2e3",
   "metadata": {},
   "outputs": [
    {
     "name": "stdout",
     "output_type": "stream",
     "text": [
      "['H', 'e', 'l', 'l', 'o', 'h', 'o', 'w', 'a', 'r', 'e', 'y', 'o', 'u']\n"
     ]
    }
   ],
   "source": [
    "#25 Extract all alphabets from a string \n",
    "\n",
    "string20 = \"Hello how are you 53\"\n",
    "list_alpha = [i for i in string20 if i.isalpha()]\n",
    "print(list_alpha)"
   ]
  },
  {
   "cell_type": "code",
   "execution_count": 90,
   "id": "cc9b5357-9c1c-429a-8d1d-bc25cbf7a4b7",
   "metadata": {},
   "outputs": [
    {
     "name": "stdout",
     "output_type": "stream",
     "text": [
      "Number of uppercase: 2\n"
     ]
    }
   ],
   "source": [
    "#26 Count the number of uppercase letters in a string\n",
    "\n",
    "string21 = \"Hello Rithin\"\n",
    "count = len([i for i in string21 if i.isupper()])\n",
    "print(\"Number of uppercase:\",count)"
   ]
  },
  {
   "cell_type": "code",
   "execution_count": 89,
   "id": "3d8b7c33-5aec-4cd6-97ea-a8ddc51fe8b0",
   "metadata": {},
   "outputs": [
    {
     "name": "stdout",
     "output_type": "stream",
     "text": [
      "Number of lowercase: 9\n"
     ]
    }
   ],
   "source": [
    "#27 Count the number of lowercase letters in a string\n",
    "string22 = \"Hello Rithin\"\n",
    "count = len([i for i in string21 if i.islower()])\n",
    "print(\"Number of lowercase:\",count)"
   ]
  },
  {
   "cell_type": "code",
   "execution_count": 88,
   "id": "044a217e-4ac7-4219-ac1e-847a7974358f",
   "metadata": {},
   "outputs": [
    {
     "name": "stdout",
     "output_type": "stream",
     "text": [
      "Swapped letter case: hELLO wORLD\n"
     ]
    }
   ],
   "source": [
    "#28 Swap the case of each character in a string.\n",
    "\n",
    "string23 = \"Hello World\"\n",
    "letters = \"\".join(i.swapcase() for i in string23)\n",
    "print(\"Swapped letter case:\",letters)"
   ]
  },
  {
   "cell_type": "code",
   "execution_count": 101,
   "id": "0edcc826-9eb9-4659-8e01-28b45425673a",
   "metadata": {},
   "outputs": [
    {
     "name": "stdout",
     "output_type": "stream",
     "text": [
      "After removal of word: Hello how  you\n"
     ]
    }
   ],
   "source": [
    "#29 Remove a specific word from a string\n",
    "\n",
    "string24 = \"Hello how are you\"\n",
    "specific_string = \"are\"\n",
    "string25 =string24.replace(specific_string,\"\")\n",
    "print(\"After removal of word:\",string25)"
   ]
  },
  {
   "cell_type": "code",
   "execution_count": 115,
   "id": "835ba2a5-ba5f-4c92-9c27-98e9b49b4857",
   "metadata": {},
   "outputs": [
    {
     "name": "stdout",
     "output_type": "stream",
     "text": [
      "Email is valid\n"
     ]
    }
   ],
   "source": [
    "#30 check if a string is a valid email address\n",
    "import re\n",
    "string25 =\"rithin@gmail.com\"\n",
    "pattern = r'^[\\w\\.-]+@[\\w\\.-]+\\.\\w+$'    #using regular expression   \n",
    "if re.match(pattern,string25):\n",
    "    print(\"Email is valid\")\n",
    "else:\n",
    "    print(\"Email is invalid\")"
   ]
  },
  {
   "cell_type": "code",
   "execution_count": 2,
   "id": "f34c5b43-283c-4192-8b6b-c57edad31dbb",
   "metadata": {},
   "outputs": [
    {
     "name": "stdout",
     "output_type": "stream",
     "text": [
      "Username: pwskill1710\n"
     ]
    }
   ],
   "source": [
    "#31. Extract the username from an email address string.\n",
    "\n",
    "string16 = \"pwskill1710@gmail.com\"\n",
    "print(\"Username:\",string16.split(\"@\")[0])"
   ]
  },
  {
   "cell_type": "code",
   "execution_count": 1,
   "id": "cbafd965-8ddd-4f31-8c8a-e57af59a69a4",
   "metadata": {},
   "outputs": [
    {
     "name": "stdout",
     "output_type": "stream",
     "text": [
      "Username: gmail.com\n"
     ]
    }
   ],
   "source": [
    "#32. Extract the domain name from an email address string.\n",
    "string17 = \"pwskill1710@gmail.com\"\n",
    "print(\"Username:\",string17.split(\"@\")[1])"
   ]
  },
  {
   "cell_type": "code",
   "execution_count": 18,
   "id": "c730004c-a2a0-4163-a3d1-901a232a6fe1",
   "metadata": {},
   "outputs": [
    {
     "name": "stdout",
     "output_type": "stream",
     "text": [
      "This is a word\n"
     ]
    }
   ],
   "source": [
    "#33. Replace multiple spaces in a string with a single space.\n",
    "string18 = \"This  is     a        word\"\n",
    "string19 = string18.split()\n",
    "print(\" \".join(string19))"
   ]
  },
  {
   "cell_type": "code",
   "execution_count": 60,
   "id": "54686c66-746e-41d9-8c05-878ca4ef9e23",
   "metadata": {},
   "outputs": [
    {
     "name": "stdout",
     "output_type": "stream",
     "text": [
      "Valid url\n"
     ]
    }
   ],
   "source": [
    "#34. Check if a string is a valid URL.\n",
    "\n",
    "string20 = \"https://www.amazon.com\"\n",
    "list_ = list(string20.partition(\"//\"))\n",
    "if (list_[0] in [\"http:\",\"https:\"])and (list_[1]==\"//\") and( \".\" in list_[2]):\n",
    "    print(\"Valid url\")\n",
    "else:\n",
    "    print(\"Invalid Url\")"
   ]
  },
  {
   "cell_type": "code",
   "execution_count": 69,
   "id": "073ce29a-773f-468b-bc98-b404e4459db8",
   "metadata": {},
   "outputs": [
    {
     "name": "stdout",
     "output_type": "stream",
     "text": [
      "Protocol: https\n"
     ]
    }
   ],
   "source": [
    "#35. Extract the protocol (http or https) from a URL string.\n",
    "string21 = \"https://www.amazon.com\"\n",
    "if \"://\" in string21:\n",
    "    string21_list = list(string21.partition(\"://\"))\n",
    "    print(\"Protocol:\",str(string21_list[0]))"
   ]
  },
  {
   "cell_type": "code",
   "execution_count": 93,
   "id": "9274e095-7bbc-47dc-9da9-0f4511b7d404",
   "metadata": {},
   "outputs": [
    {
     "name": "stdout",
     "output_type": "stream",
     "text": [
      "frequency of H is 1\n",
      "frequency of o is 2\n",
      "frequency of w is 1\n",
      "frequency of e is 1\n",
      "frequency of l is 3\n",
      "frequency of d is 1\n",
      "frequency of r is 1\n",
      "frequency of   is 1\n"
     ]
    }
   ],
   "source": [
    "#36. Find the frequency of each character in a string.\n",
    "string22 = \"Hello world\"\n",
    "set_string22 = set(string22)\n",
    "for i in set_string22:\n",
    "        count = string22.count(i)\n",
    "        print(f\"frequency of {i} is {count}\")\n",
    "  "
   ]
  },
  {
   "cell_type": "code",
   "execution_count": 133,
   "id": "2ce55457-8681-4611-a9ed-69a18c0f92c5",
   "metadata": {},
   "outputs": [
    {
     "name": "stdout",
     "output_type": "stream",
     "text": [
      "Hello  world how is it \n"
     ]
    }
   ],
   "source": [
    "#37. Remove all punctuation from a string-----  str.maketrans(\"to be replaced\",\"replace character\",\"to delete\")\n",
    "import string\n",
    "\n",
    "string37 = \"Hello! world,how is it?\"\n",
    "string38 =''\n",
    "for i in string.punctuation:\n",
    "        trans = string37.maketrans(i,\" \")\n",
    "        string37 = string37.translate(trans)\n",
    "print(string37)"
   ]
  },
  {
   "cell_type": "code",
   "execution_count": 6,
   "id": "4478142d-8f3b-4591-a999-f3d423bac42f",
   "metadata": {},
   "outputs": [
    {
     "name": "stdout",
     "output_type": "stream",
     "text": [
      "String contains only digits\n"
     ]
    }
   ],
   "source": [
    "#38. Check if a string contains only digits.\n",
    "string38 =\"7778\"\n",
    "if string38.isnumeric():\n",
    "    print(\"String contains only digits\")\n",
    "else:\n",
    "    print(\"String doesn't contains only digits\")"
   ]
  },
  {
   "cell_type": "code",
   "execution_count": 12,
   "id": "80b77663-416c-4af5-a59f-5d7ecd526c1c",
   "metadata": {},
   "outputs": [
    {
     "name": "stdout",
     "output_type": "stream",
     "text": [
      "String contains only alphabets\n"
     ]
    }
   ],
   "source": [
    "#39. Check if a string contains only alphabets.\n",
    "string38 =\"hello\"\n",
    "if string38.isalpha():\n",
    "    print(\"String contains only alphabets\")\n",
    "else:\n",
    "    print(\"String doesn't contains only alphabets\")"
   ]
  },
  {
   "cell_type": "code",
   "execution_count": 13,
   "id": "d01ff9ee-cfa5-44a9-9f54-71baea36378e",
   "metadata": {},
   "outputs": [
    {
     "name": "stdout",
     "output_type": "stream",
     "text": [
      "['H', 'e', 'l', 'l', 'o', ' ', 'h', 'o', 'w', ' ', 'a', 'r', 'e', ' ', 'y', 'o', 'u']\n"
     ]
    }
   ],
   "source": [
    "#40. Convert a string to a list of characters.\n",
    "string39 = \"Hello how are you\"\n",
    "string39_list = list(string39)\n",
    "print(string39_list)"
   ]
  },
  {
   "cell_type": "code",
   "execution_count": 42,
   "id": "774997db-86da-4f03-9a71-e6499de3ae79",
   "metadata": {},
   "outputs": [
    {
     "name": "stdout",
     "output_type": "stream",
     "text": [
      "Two strings are anagrams\n"
     ]
    }
   ],
   "source": [
    "#41. Check if two strings are anagrams.\n",
    "string40 = \"listen\"\n",
    "string41 = \"silent\"\n",
    "if sorted(list(string40))==sorted(list(string41)):\n",
    "    print(\"Two strings are anagrams\")\n",
    "else:\n",
    "    print(\"Two strings are not anagrams\")"
   ]
  },
  {
   "cell_type": "code",
   "execution_count": 62,
   "id": "fbde3fbd-e159-4c41-8cea-dc6b75a26c5c",
   "metadata": {},
   "outputs": [
    {
     "name": "stdout",
     "output_type": "stream",
     "text": [
      "Khoor/#Zruog\n"
     ]
    }
   ],
   "source": [
    "#42. Encode a string using a Caesar cipher.\n",
    "string41 = \"Hello, World\"\n",
    "shift = 3\n",
    "l1 =list(map(lambda x: chr(ord(x)+shift),list(string41)))\n",
    "Encoded = \"\".join(l1)\n",
    "print(Encoded)\n",
    "\n"
   ]
  },
  {
   "cell_type": "code",
   "execution_count": 63,
   "id": "a1f479ac-55e4-491f-bad2-729ecd00e9f3",
   "metadata": {},
   "outputs": [
    {
     "name": "stdout",
     "output_type": "stream",
     "text": [
      "Hello, World\n"
     ]
    }
   ],
   "source": [
    "#43. Decode a Caesar cipher encoded string.\n",
    "string41 = \"Khoor/#Zruog\"\n",
    "shift = 3\n",
    "l2 =list(map(lambda x: chr(ord(x)-shift),list(string41)))\n",
    "Decoded = \"\".join(l2)\n",
    "print(Decoded)\n"
   ]
  },
  {
   "cell_type": "code",
   "execution_count": 93,
   "id": "140c362a-0e37-478b-b082-99affc07b47e",
   "metadata": {},
   "outputs": [
    {
     "name": "stdout",
     "output_type": "stream",
     "text": [
      "Most frequent word is: you\n"
     ]
    }
   ],
   "source": [
    "#44. Find the most frequent word in a string.\n",
    "\n",
    "string43 =\"Hello Hello how are you you you\"\n",
    "dic = {}\n",
    "string43_list = string43.split()\n",
    "for i in string43_list:\n",
    "    if i in dic:\n",
    "        dic[i]+=1\n",
    "    else:\n",
    "        dic[i]=1\n",
    "print(\"Most frequent word is:\",max(dic,key=dic.get))\n"
   ]
  },
  {
   "cell_type": "code",
   "execution_count": 97,
   "id": "28742df7-069d-4c73-a368-a440f2985351",
   "metadata": {},
   "outputs": [
    {
     "name": "stdout",
     "output_type": "stream",
     "text": [
      "{'you', 'how', 'are', 'hello'}\n"
     ]
    }
   ],
   "source": [
    "#45. Find all unique words in a string.\n",
    "string43 =\"Hello Hello how are you you you\"\n",
    "unique_words =set(string43.lower().split())\n",
    "print(unique_words)"
   ]
  },
  {
   "cell_type": "code",
   "execution_count": 98,
   "id": "80a7a4aa-38ee-479f-bae0-70020d091029",
   "metadata": {},
   "outputs": [
    {
     "name": "stdout",
     "output_type": "stream",
     "text": [
      "The word 'programming' has 3 syllables.\n"
     ]
    }
   ],
   "source": [
    "#46. Count the number of syllables in a string.\n",
    "def count_syllables(word):\n",
    "    vowels = \"aeiouyAEIOUY\"\n",
    "    count = 0\n",
    "    in_vowel_sequence = False\n",
    "\n",
    "    for char in word:\n",
    "        if char in vowels:\n",
    "            if not in_vowel_sequence:\n",
    "                count += 1\n",
    "                in_vowel_sequence = True\n",
    "        else:\n",
    "            in_vowel_sequence = False\n",
    "\n",
    "    # Adjust the count for certain common cases\n",
    "    if word.endswith(\"e\"):\n",
    "        count -= 1\n",
    "    if count == 0:\n",
    "        count = 1\n",
    "\n",
    "    return count\n",
    "\n",
    "word = \"programming\"\n",
    "syllable_count = count_syllables(word)\n",
    "print(f\"The word '{word}' has {syllable_count} syllables.\")\n"
   ]
  },
  {
   "cell_type": "code",
   "execution_count": 131,
   "id": "be25d1cb-981b-4633-b9c5-cedeb6a33dc1",
   "metadata": {},
   "outputs": [
    {
     "name": "stdout",
     "output_type": "stream",
     "text": [
      "Contains special character\n"
     ]
    }
   ],
   "source": [
    "#47. Check if a string contains any special characters.\n",
    "\n",
    "string47 =\"hello& how a\"\n",
    "string48 =string47.replace(\" \",\"\")\n",
    "if not(string48.isalnum() or string48.isalpha() or string48.isnumeric()) and len(string48)!=0:\n",
    "    print(\"Contains special character\")\n",
    "else:\n",
    "    print(\"String doesn't contains special characters\")"
   ]
  },
  {
   "cell_type": "code",
   "execution_count": 163,
   "id": "31c0e969-2b64-4926-865b-ad2a5fbf5ada",
   "metadata": {},
   "outputs": [
    {
     "name": "stdout",
     "output_type": "stream",
     "text": [
      "how are you\n"
     ]
    }
   ],
   "source": [
    "#48. Remove the nth word from a string.\n",
    "\n",
    "string49 = \"Hello how are you\"\n",
    "nth_word = 1\n",
    "string_list = string49.split()\n",
    "if len(string_list)>=nth_word and nth_word!=0:\n",
    "    string_list.pop(nth_word-1)\n",
    "    print(\" \".join(string_list))\n",
    "elif nth_word==0:\n",
    "        print(string49)\n",
    "else:\n",
    "    print(\"Error in removing\")\n"
   ]
  },
  {
   "cell_type": "code",
   "execution_count": 168,
   "id": "a918798f-626c-4fd1-be67-cfd57b76a84c",
   "metadata": {},
   "outputs": [
    {
     "name": "stdin",
     "output_type": "stream",
     "text": [
      "Enter a string: Hello how you\n",
      "Enter string to insert: are\n",
      "Enter position to insert: 2\n"
     ]
    },
    {
     "name": "stdout",
     "output_type": "stream",
     "text": [
      "Hello are how you\n"
     ]
    }
   ],
   "source": [
    "#49. Insert a word at the nth position in a string.\n",
    "\n",
    "string50,insert_string,nth_position = input(\"Enter a string:\"),input(\"Enter string to insert:\"),int(input(\"Enter position to insert:\"))\n",
    "string50_list = string50.split()\n",
    "string50_list.insert(nth_position-1,insert_string)   # position index starts with 1\n",
    "string50 = \" \".join(string50_list)\n",
    "print(string50)\n"
   ]
  },
  {
   "cell_type": "code",
   "execution_count": 181,
   "id": "567cf1e2-6fd5-4d3b-ac1c-8dfe05875b53",
   "metadata": {},
   "outputs": [
    {
     "name": "stdout",
     "output_type": "stream",
     "text": [
      "Converted CSV string to a list of lists is:\n",
      " [['Name', 'Age', 'Location'], ['Alice', '30', 'New York'], ['Bob', '25', 'Los Angeles'], ['Charlie', '40', 'San Francisco']]\n"
     ]
    }
   ],
   "source": [
    "#50. Convert a CSV string to a list of lists.\n",
    "\n",
    "string51 = \"\"\"Name,Age,Location\n",
    "Alice,30,New York\n",
    "Bob,25,Los Angeles\n",
    "Charlie,40,San Francisco\"\"\"\n",
    "\n",
    "list_string = list(map(lambda x: x.split(\",\"),string51.split(\"\\n\")))\n",
    "print(\"Converted CSV string to a list of lists is:\\n\",list_string)\n"
   ]
  },
  {
   "cell_type": "markdown",
   "id": "7ebf8ee0-09b6-4e1b-bc33-4aa9af81a6c4",
   "metadata": {
    "tags": []
   },
   "source": [
    "#            List Based Practice Problem :    ------------\n",
    "\n",
    "\n",
    "\n",
    "\n"
   ]
  },
  {
   "cell_type": "code",
   "execution_count": 185,
   "id": "4d28ba66-f7a7-4aa6-b1ce-b47b295b902c",
   "metadata": {},
   "outputs": [
    {
     "name": "stdout",
     "output_type": "stream",
     "text": [
      "[1, 2, 3, 4, 5, 6, 7, 8, 9, 10]\n"
     ]
    }
   ],
   "source": [
    "#1. Create a list with integers from 1 to 10.\n",
    "list1 = list(range(1,11))\n",
    "print(list1)"
   ]
  },
  {
   "cell_type": "code",
   "execution_count": 189,
   "id": "3d10e4e1-44bc-4a92-96a9-ecf6d68f2d26",
   "metadata": {},
   "outputs": [
    {
     "name": "stdout",
     "output_type": "stream",
     "text": [
      "Length of list: 10\n"
     ]
    }
   ],
   "source": [
    "#2. Find the length of a list without using the `len()` function.\n",
    "\n",
    "list2 =[1,2,3,4,5,6,7,8,9,10]\n",
    "count = 0\n",
    "for i in list2:\n",
    "    count+=1\n",
    "print(\"Length of list:\",count)    "
   ]
  },
  {
   "cell_type": "code",
   "execution_count": 191,
   "id": "af12a00f-a6af-49fa-bfa3-72f1baa95e0e",
   "metadata": {},
   "outputs": [
    {
     "name": "stdin",
     "output_type": "stream",
     "text": [
      "Enter a number to append: 8\n"
     ]
    },
    {
     "name": "stdout",
     "output_type": "stream",
     "text": [
      "[1, 2, 3, 4, 8]\n"
     ]
    }
   ],
   "source": [
    "#3. Append an element to the end of a list.\n",
    "list3 =[1,2,3,4]\n",
    "append_no = int(input(\"Enter a number to append:\"))\n",
    "list3.append(append_no)\n",
    "print(list3)"
   ]
  },
  {
   "cell_type": "code",
   "execution_count": 203,
   "id": "c6cf53b1-453e-469f-9dc4-d0b40c3bc23e",
   "metadata": {},
   "outputs": [
    {
     "name": "stdin",
     "output_type": "stream",
     "text": [
      "Enter a number to append and its index(start with 0) seperated by space: 5 0\n"
     ]
    },
    {
     "name": "stdout",
     "output_type": "stream",
     "text": [
      "Updated list: [5, 1, 2, 3, 4]\n"
     ]
    }
   ],
   "source": [
    "#4. Insert an element at a specific index in a list.\n",
    "list3 =[1,2,3,4]\n",
    "list1= input(\"Enter a number to append and its index(start with 0) seperated by space:\").split()\n",
    "append_= list1[0]\n",
    "append_index = list1[1]\n",
    "list3.insert(int(append_index),int(append_))\n",
    "print(\"Updated list:\",list3)"
   ]
  },
  {
   "cell_type": "code",
   "execution_count": 205,
   "id": "48e6edae-85fb-42e5-8d56-8fa55541f5b1",
   "metadata": {},
   "outputs": [
    {
     "name": "stdout",
     "output_type": "stream",
     "text": [
      "Updated list: ['Hi', {1, 2, 3}]\n"
     ]
    }
   ],
   "source": [
    "#5. Remove an element from a list by its value.\n",
    "list3 = [\"Hi\",1,{1,2,3}]\n",
    "remove_ = 1\n",
    "list3.remove(remove_)\n",
    "print(\"Updated list:\",list3)"
   ]
  },
  {
   "cell_type": "code",
   "execution_count": 208,
   "id": "8e83754a-85c3-4b2b-895e-0ddedb9aa813",
   "metadata": {},
   "outputs": [
    {
     "name": "stdout",
     "output_type": "stream",
     "text": [
      "Updated list: [1, {1, 2, 3}]\n"
     ]
    }
   ],
   "source": [
    "#6. Remove an element from a list by its index.\n",
    "list3 = [\"Hi\",1,{1,2,3}]\n",
    "remove_index = 0\n",
    "list3.pop(remove_index)\n",
    "print(\"Updated list:\",list3)"
   ]
  },
  {
   "cell_type": "code",
   "execution_count": 211,
   "id": "dccb75e4-b918-414d-8c23-6b5c3a8db528",
   "metadata": {},
   "outputs": [
    {
     "name": "stdout",
     "output_type": "stream",
     "text": [
      "Element exists\n"
     ]
    }
   ],
   "source": [
    "#7. Check if an element exists in a list.\n",
    "list4 = [\"Hi\",1,{1,2,3}]\n",
    "element = {1,2,3}\n",
    "if element in list4:\n",
    "    print(\"Element exists\")\n",
    "else:\n",
    "    print(\"Element doesn't exists\")\n"
   ]
  },
  {
   "cell_type": "code",
   "execution_count": 215,
   "id": "ee0871a0-bc76-4867-93bf-c7e78ff58fe4",
   "metadata": {},
   "outputs": [
    {
     "name": "stdout",
     "output_type": "stream",
     "text": [
      "First occurrence of an element's index is: 0\n"
     ]
    }
   ],
   "source": [
    "#8. Find the index of the first occurrence of an element in a list.\n",
    "list5 = [\"Hi\",1,{1,2,3},\"Hi\"]\n",
    "element = \"Hi\"\n",
    "first_index_occurence = list5.index(element)\n",
    "print(\"First occurrence of an element's index is:\",first_index_occurence)\n"
   ]
  },
  {
   "cell_type": "code",
   "execution_count": 222,
   "id": "22a9b341-d269-4de9-a400-7a1d1a5b52a0",
   "metadata": {},
   "outputs": [
    {
     "name": "stdout",
     "output_type": "stream",
     "text": [
      "Occurences of element in list is: 2\n"
     ]
    }
   ],
   "source": [
    "#9. Count the occurrences of an element in a list.\n",
    "list5 = [\"Hi\",1,8,8,\"Hi\"]\n",
    "element = \"Hi\"\n",
    "print(\"Occurences of element in list is:\",list5.count(element))"
   ]
  },
  {
   "cell_type": "code",
   "execution_count": 226,
   "id": "cf8d34d7-70ac-41a6-8e6d-c0c937b9d698",
   "metadata": {},
   "outputs": [
    {
     "name": "stdout",
     "output_type": "stream",
     "text": [
      "[{1, 2, 3}, 1, 'Hi']\n"
     ]
    }
   ],
   "source": [
    "#10. Reverse the order of elements in a list.\n",
    "list6 = [\"Hi\",1,{1,2,3}]\n",
    "list6.reverse()\n",
    "print(list6)\n"
   ]
  },
  {
   "cell_type": "code",
   "execution_count": 234,
   "id": "15d263e8-9175-4290-aaae-434dacba5bca",
   "metadata": {},
   "outputs": [
    {
     "name": "stdout",
     "output_type": "stream",
     "text": [
      "Sorted in ascending order: [1, 2, 3, 3, 4, 5, 5, 6, 78]\n"
     ]
    }
   ],
   "source": [
    "#11. Sort a list in ascending order.\n",
    "list7 =[1,2,4,5,3,5,3,6,78]\n",
    "list7.sort()\n",
    "print(\"Sorted in ascending order:\",list7)"
   ]
  },
  {
   "cell_type": "code",
   "execution_count": 236,
   "id": "f954209d-7d5b-41d1-a1b2-8bc3445f9eda",
   "metadata": {},
   "outputs": [
    {
     "name": "stdout",
     "output_type": "stream",
     "text": [
      "Sorted in descending order: [78, 6, 5, 5, 4, 3, 3, 2, 1]\n"
     ]
    }
   ],
   "source": [
    "#12. Sort a list in descending order.\n",
    "list7 =[1,2,4,5,3,5,3,6,78]\n",
    "list7.sort(reverse=True)\n",
    "print(\"Sorted in descending order:\",list7)"
   ]
  },
  {
   "cell_type": "code",
   "execution_count": 238,
   "id": "b7b54693-c94d-42be-8922-8dc12290403f",
   "metadata": {},
   "outputs": [
    {
     "name": "stdout",
     "output_type": "stream",
     "text": [
      "even numbers from 1 to 20: [2, 4, 6, 8, 10, 12, 14, 16, 18, 20]\n"
     ]
    }
   ],
   "source": [
    "#13. Create a list of even numbers from 1 to 20.\n",
    "list8 = [i for i in range(1,21) if i%2==0]\n",
    "print(\"even numbers from 1 to 20:\",list8)"
   ]
  },
  {
   "cell_type": "code",
   "execution_count": 239,
   "id": "3e394dc3-d14f-4898-a9de-c41f34665fa9",
   "metadata": {},
   "outputs": [
    {
     "name": "stdout",
     "output_type": "stream",
     "text": [
      "odd numbers from 1 to 20: [1, 3, 5, 7, 9, 11, 13, 15, 17, 19]\n"
     ]
    }
   ],
   "source": [
    "#14. Create a list of odd numbers from 1 to 20.\n",
    "list8 = [i for i in range(1,21) if i%2!=0]\n",
    "print(\"odd numbers from 1 to 20:\",list8)"
   ]
  },
  {
   "cell_type": "code",
   "execution_count": 241,
   "id": "b994ec0b-597c-4715-aa6f-3f40cb7c617a",
   "metadata": {},
   "outputs": [
    {
     "name": "stdout",
     "output_type": "stream",
     "text": [
      "Sum of all elements in a list: 15\n"
     ]
    }
   ],
   "source": [
    "#15. Find the sum of all elements in a list.\n",
    "list9 = [1,2,3,4,5]\n",
    "print(\"Sum of all elements in a list:\",sum(list9))"
   ]
  },
  {
   "cell_type": "code",
   "execution_count": 243,
   "id": "e55a25fa-8060-4f6b-8c24-334f55a5f54b",
   "metadata": {},
   "outputs": [
    {
     "name": "stdout",
     "output_type": "stream",
     "text": [
      "maximum value in a list: 5\n"
     ]
    }
   ],
   "source": [
    "#16. Find the maximum value in a list.\n",
    "list10 = [1,2,3,4,5]\n",
    "print(\"maximum value in a list:\",max(list9))"
   ]
  },
  {
   "cell_type": "code",
   "execution_count": 242,
   "id": "ad8160b9-1a8a-4484-b0c5-8969ef86f0db",
   "metadata": {},
   "outputs": [
    {
     "name": "stdout",
     "output_type": "stream",
     "text": [
      "minimum value in a list: 1\n"
     ]
    }
   ],
   "source": [
    "#17. Find the minimum value in a list.\n",
    "list11 = [1,2,3,4,5]\n",
    "print(\"minimum value in a list:\",min(list9))"
   ]
  },
  {
   "cell_type": "code",
   "execution_count": 244,
   "id": "46de13b4-7824-4285-945a-d54b361bc22f",
   "metadata": {},
   "outputs": [
    {
     "name": "stdout",
     "output_type": "stream",
     "text": [
      "[1, 4, 9, 16, 25, 36, 49, 64, 81, 100]\n"
     ]
    }
   ],
   "source": [
    "#18. Create a list of squares of numbers from 1 to 10.\n",
    "list12 = [i**2 for i in range(1,11)]\n",
    "print(list12)"
   ]
  },
  {
   "cell_type": "code",
   "execution_count": 249,
   "id": "0ac597c3-1e8d-4abd-b035-62344cc51faf",
   "metadata": {},
   "outputs": [
    {
     "name": "stdout",
     "output_type": "stream",
     "text": [
      "[5, 50, 95, 98, 73, 21, 34, 56, 46, 24]\n"
     ]
    }
   ],
   "source": [
    "#19. Create a list of random numbers.\n",
    "import random\n",
    "\n",
    "list13 = [random.randint(1,100) for i in range(10)]\n",
    "print(list13)"
   ]
  },
  {
   "cell_type": "code",
   "execution_count": 252,
   "id": "9e444127-b536-4a13-8af4-b284fd1e0707",
   "metadata": {},
   "outputs": [
    {
     "name": "stdout",
     "output_type": "stream",
     "text": [
      "[1, 2, 3, 4, 'Hi', {1, 2, 3}]\n"
     ]
    }
   ],
   "source": [
    "#20. Remove duplicates from a list.\n",
    "list14 = [1,2,3,2,1,4,\"Hi\",\"Hi\",{1,2,3}]\n",
    "list15=[]\n",
    "for i in list14:\n",
    "    if i not in list15:\n",
    "        list15.append(i)\n",
    "print(list15)        \n",
    "    "
   ]
  },
  {
   "cell_type": "code",
   "execution_count": 264,
   "id": "c8e0ce02-6066-417c-8c22-5e18d3a8b133",
   "metadata": {},
   "outputs": [
    {
     "name": "stdout",
     "output_type": "stream",
     "text": [
      "Common elements: [1, 2, 'hi', {'hi', 'hello'}, 8]\n"
     ]
    }
   ],
   "source": [
    "#21. Find the common elements between two lists.\n",
    "list16 = [1,2,\"hi\",{\"hello\",\"hi\"},8]\n",
    "list17 =[5,7,8,\"hi\",2,1,{\"hello\",\"hi\"}]\n",
    "list_com = []\n",
    "for i in list16:\n",
    "    if i in list17:\n",
    "        list_com.append(i)\n",
    "print(\"Common elements:\",list_com)        \n",
    "          "
   ]
  },
  {
   "cell_type": "code",
   "execution_count": 267,
   "id": "dc8950bb-6cb1-4bcb-b6e8-5c9b2dbe0147",
   "metadata": {},
   "outputs": [
    {
     "name": "stdout",
     "output_type": "stream",
     "text": [
      "Difference between two lists: [{'hi', 'hello'}, 0, 'ki']\n"
     ]
    }
   ],
   "source": [
    "#22. Find the difference between two lists.\n",
    "list18 = [1,2,\"hi\",{\"hello\",\"hi\"},0,\"ki\"]\n",
    "list19 =[5,7,8,\"hi\",2,1]\n",
    "list_dif = []\n",
    "for i in list18:\n",
    "    if i not in list19:\n",
    "        list_dif.append(i)\n",
    "print(\"Difference between two lists:\",list_dif)        \n",
    "          \n"
   ]
  },
  {
   "cell_type": "code",
   "execution_count": 270,
   "id": "d5fc9b67-461b-4ac5-855a-4d8f77be43f4",
   "metadata": {},
   "outputs": [
    {
     "name": "stdout",
     "output_type": "stream",
     "text": [
      "[1, 2, 'hi', {'hi', 'hello'}, 0, 'ki', 5, 7, 8, 'hi', 2, 1]\n"
     ]
    }
   ],
   "source": [
    "#23. Merge two lists.\n",
    "list20 = [1,2,\"hi\",{\"hello\",\"hi\"},0,\"ki\"]\n",
    "list21 =[5,7,8,\"hi\",2,1]\n",
    "list20.extend(list21)\n",
    "print(list20)"
   ]
  },
  {
   "cell_type": "code",
   "execution_count": 272,
   "id": "873f9962-faa1-4073-a4bb-c899927ffb11",
   "metadata": {},
   "outputs": [
    {
     "name": "stdout",
     "output_type": "stream",
     "text": [
      "[2, 4, 6, 8, 10, 12, 14, 16, 16, 20]\n"
     ]
    }
   ],
   "source": [
    "#24. Multiply all elements in a list by 2.\n",
    "list22 = [1,2,3,4,5,6,7,8,8,10]\n",
    "list_new = [i*2 for i in list22]\n",
    "print(list_new)"
   ]
  },
  {
   "cell_type": "code",
   "execution_count": 273,
   "id": "c924d2f5-7add-40ea-a75f-f231c4640852",
   "metadata": {},
   "outputs": [
    {
     "name": "stdout",
     "output_type": "stream",
     "text": [
      "[2, 4, 6, 8, 8, 10]\n"
     ]
    }
   ],
   "source": [
    "#25. Filter out all even numbers from a list.\n",
    "list23 = [1,2,3,4,5,6,7,8,8,10]\n",
    "list24 = list(filter(lambda x: x%2==0,list23))\n",
    "print(list24)"
   ]
  },
  {
   "cell_type": "code",
   "execution_count": 274,
   "id": "a5ee8b74-3faf-4e25-8d2d-4f87654e8e30",
   "metadata": {},
   "outputs": [
    {
     "name": "stdout",
     "output_type": "stream",
     "text": [
      "[1, 2, 3, 4, 5]\n"
     ]
    }
   ],
   "source": [
    "#26. Convert a list of strings to a list of integers.\n",
    "list25 =[\"1\",\"2\",\"3\",\"4\",\"5\"]\n",
    "list26 = [int(i) for i in list25]\n",
    "print(list26)"
   ]
  },
  {
   "cell_type": "code",
   "execution_count": 275,
   "id": "12ac621c-5185-46cf-8511-d9dbdbe8a98f",
   "metadata": {},
   "outputs": [
    {
     "name": "stdout",
     "output_type": "stream",
     "text": [
      "['1', '2', '3', '4', '5', '6', '7', '8']\n"
     ]
    }
   ],
   "source": [
    "#27. Convert a list of integers to a list of strings.\n",
    "list25 =[1,2,3,4,5,6,7,8]\n",
    "list26 = [str(i) for i in list25]\n",
    "print(list26)"
   ]
  },
  {
   "cell_type": "code",
   "execution_count": 85,
   "id": "8d396f13-390f-4e08-9273-b3d860577b74",
   "metadata": {},
   "outputs": [
    {
     "name": "stdout",
     "output_type": "stream",
     "text": [
      "[1, 2, 3, 1, 2, 1, 2, 8, 9, 10]\n"
     ]
    }
   ],
   "source": [
    "#28. Flatten a nested list.\n",
    "def flatten(l):\n",
    "    flat_list=[]\n",
    "    for item in l:\n",
    "        if isinstance(item,list):\n",
    "            flat_list.extend(flatten(item))\n",
    "        else:\n",
    "            flat_list.append(item)                 \n",
    "            \n",
    "    return flat_list\n",
    "\n",
    "l = [1,2,3,[1,2,[1,2],8,9,10]]\n",
    "print(flatten(l))\n",
    "      "
   ]
  },
  {
   "cell_type": "code",
   "execution_count": 87,
   "id": "c9d1a5b4-a118-4f9e-bb7c-8cdc1f761d13",
   "metadata": {},
   "outputs": [
    {
     "name": "stdout",
     "output_type": "stream",
     "text": [
      "list of the first 10 Fibonacci numbers: [0, 1, 1, 2, 3, 5, 8, 13, 21, 34]\n"
     ]
    }
   ],
   "source": [
    "#29. Create a list of the first 10 Fibonacci numbers.\n",
    "list_=[]\n",
    "a,b=0,1\n",
    "for i in range(10):\n",
    "    list_.append(a)\n",
    "    a,b=b,a+b\n",
    "print(\"list of the first 10 Fibonacci numbers:\",list_)"
   ]
  },
  {
   "cell_type": "code",
   "execution_count": 120,
   "id": "b9fae67a-5a5f-41c2-9603-07b02c909346",
   "metadata": {},
   "outputs": [
    {
     "name": "stdout",
     "output_type": "stream",
     "text": [
      "List is Sorted\n"
     ]
    }
   ],
   "source": [
    "#30. Check if a list is sorted.\n",
    "l = [1,2,3,4,5]\n",
    "if sorted(l)==l or sorted(l,reverse=True)==l:\n",
    "    print(\"List is Sorted\")\n",
    "else:\n",
    "    print(\"List is not sorted\")\n"
   ]
  },
  {
   "cell_type": "code",
   "execution_count": 138,
   "id": "87369bab-1976-490b-9d0b-f5009c4b587b",
   "metadata": {},
   "outputs": [
    {
     "name": "stdout",
     "output_type": "stream",
     "text": [
      "Rotated list to left by 2 position is: [3, 4, 5, 6, 1, 2]\n"
     ]
    }
   ],
   "source": [
    "#31. Rotate a list to the left by `n` positions.\n",
    "n=2\n",
    "list27 = [1,2,3,4,5,6]\n",
    "list28 = list27[:n]\n",
    "list29=list27[n:]\n",
    "list29.extend(list28)\n",
    "print(f\"Rotated list to left by {n} position is:\",list29)"
   ]
  },
  {
   "cell_type": "code",
   "execution_count": 153,
   "id": "4e2ee6d1-25d3-4b41-8645-8d71db378856",
   "metadata": {},
   "outputs": [
    {
     "name": "stdout",
     "output_type": "stream",
     "text": [
      "Rotated list to right by 2 position is: [6, 5, 1, 2, 3, 4]\n"
     ]
    }
   ],
   "source": [
    "#32. Rotate a list to the right by `n` positions.\n",
    "n=2\n",
    "list30 = [1,2,3,4,5,6]\n",
    "list31 = list30[-1:-n-1:-1]\n",
    "list32 = list30[:len(list30)-n]\n",
    "list31.extend(list32)\n",
    "print(f\"Rotated list to right by {n} position is:\",list31)\n"
   ]
  },
  {
   "cell_type": "code",
   "execution_count": 176,
   "id": "f0110b47-0037-4003-ab29-41330ba23b21",
   "metadata": {},
   "outputs": [
    {
     "data": {
      "text/plain": [
       "[2, 3, 5, 7, 11, 13, 17, 19, 23, 29, 31, 37, 41, 43, 47]"
      ]
     },
     "execution_count": 176,
     "metadata": {},
     "output_type": "execute_result"
    }
   ],
   "source": [
    "#33. Create a list of prime numbers up to 50.\n",
    "\n",
    "def is_prime(num):\n",
    "    for i in range(2,int(num**0.5)+1):\n",
    "        if num%i ==0:\n",
    "            return False\n",
    "    return True\n",
    "\n",
    "list_prime = [i for i in range (2,50) if is_prime(i)]\n",
    "list_prime"
   ]
  },
  {
   "cell_type": "code",
   "execution_count": 43,
   "id": "56de04c6-2a0d-4cd1-930c-23fd32fc8e53",
   "metadata": {},
   "outputs": [
    {
     "data": {
      "text/plain": [
       "[[1, 2, 3], [4, 5, 6], [7]]"
      ]
     },
     "execution_count": 43,
     "metadata": {},
     "output_type": "execute_result"
    }
   ],
   "source": [
    "#34. Split a list into chunks of size `n`.\n",
    "list33= [1,2,3,4,5,6,7]\n",
    "n = 3\n",
    "j=0\n",
    "list34=[]\n",
    "count=0\n",
    "if len(list33)%n==0:\n",
    "    count=int(len(list33)/n)   # if len(list33)/n is not in decimal\n",
    "else:\n",
    "    count=int(len(list33)/n)+1 # if len(list33)/n is in decimal\n",
    "               \n",
    "for i in range(count):\n",
    "    list34.append(list33[j:n+j])\n",
    "    j=j+n\n",
    "list34    "
   ]
  },
  {
   "cell_type": "code",
   "execution_count": 50,
   "id": "902e9f46-f22d-47ae-8249-509f9926bc6f",
   "metadata": {},
   "outputs": [
    {
     "name": "stdout",
     "output_type": "stream",
     "text": [
      "The second largest number in a list is: 456\n"
     ]
    }
   ],
   "source": [
    "#35. Find the second largest number in a list.\n",
    "list34 = [1,5,456,9989,0,2,4]\n",
    "num =sorted(list34)[-2]\n",
    "print(\"The second largest number in a list is:\",num)"
   ]
  },
  {
   "cell_type": "code",
   "execution_count": 51,
   "id": "efdadef1-b48f-46cf-a5fe-ccb8d99ef530",
   "metadata": {},
   "outputs": [
    {
     "name": "stdout",
     "output_type": "stream",
     "text": [
      "List with every element in its square: [1, 4, 9, 16, 25, 36]\n"
     ]
    }
   ],
   "source": [
    "#36. Replace every element in a list with its square.\n",
    "list35 = [1,2,3,4,5,6]\n",
    "list36 = list(map(lambda x:x**2,list35))\n",
    "print(\"List with every element in its square:\",list36)"
   ]
  },
  {
   "cell_type": "code",
   "execution_count": 59,
   "id": "762d0786-ba0e-461e-b2fd-ebbfc843edae",
   "metadata": {},
   "outputs": [
    {
     "name": "stdout",
     "output_type": "stream",
     "text": [
      "Dictionary: {10: 0, 11: 1, 12: 2, 13: 3, 14: 4, 15: 5}\n"
     ]
    }
   ],
   "source": [
    "#37. Convert a list to a dictionary where list elements become keys and their indices become values.\n",
    "dic = {}\n",
    "list37 =[10,11,12,13,14,15]\n",
    "for i in list37:\n",
    "    dic[i]=list37.index(i)\n",
    "print(\"Dictionary:\",dic)"
   ]
  },
  {
   "cell_type": "code",
   "execution_count": 76,
   "id": "a42f967e-4f9e-4e24-bdb7-2e042420a319",
   "metadata": {},
   "outputs": [
    {
     "name": "stdout",
     "output_type": "stream",
     "text": [
      "Shuffled list: [1, 6, 4, 5, 2, 3]\n"
     ]
    }
   ],
   "source": [
    "#38. Shuffle the elements of a list randomly.\n",
    "import random\n",
    "list38=[1,2,3,4,5,6]\n",
    "random.shuffle(list38)\n",
    "print(\"Shuffled list:\",list38)"
   ]
  },
  {
   "cell_type": "code",
   "execution_count": 88,
   "id": "a8d62d60-dad1-42e1-bd9d-29596bc9e69e",
   "metadata": {},
   "outputs": [
    {
     "name": "stdout",
     "output_type": "stream",
     "text": [
      "list of the first 10 factorial numbers: [1, 1, 2, 6, 24, 120, 720, 5040, 40320, 362880]\n"
     ]
    }
   ],
   "source": [
    "#39. Create a list of the first 10 factorial numbers.\n",
    "def fact(num):\n",
    "    value=1\n",
    "    for i in range(num,1,-1):\n",
    "        value = value*i\n",
    "    return value\n",
    "\n",
    "num = 10\n",
    "list_factorial = [fact(i) for i in range(num) ]\n",
    "print(\"list of the first 10 factorial numbers:\",list_factorial)\n"
   ]
  },
  {
   "cell_type": "code",
   "execution_count": 91,
   "id": "4a5cb4ec-e018-4528-91ca-b72b055c8142",
   "metadata": {},
   "outputs": [
    {
     "name": "stdout",
     "output_type": "stream",
     "text": [
      "Given lists have common elements\n"
     ]
    }
   ],
   "source": [
    "#40. Check if two lists have at least one element in common.\n",
    "list39 = [1,2,3,4]\n",
    "list40 = [1,9,10]\n",
    "if set(list39).intersection(set(list40)):\n",
    "    print(\"Given lists have common elements\")\n",
    "else:\n",
    "    print(\"Given lists doesn't have common elements\")"
   ]
  },
  {
   "cell_type": "code",
   "execution_count": 92,
   "id": "8e8dcc50-2126-41d8-be0f-32f4d289d01c",
   "metadata": {},
   "outputs": [
    {
     "name": "stdout",
     "output_type": "stream",
     "text": [
      "[]\n"
     ]
    }
   ],
   "source": [
    "#41. Remove all elements from a list.\n",
    "list41=[3,4,5,6,7,8,9]\n",
    "list41.clear()\n",
    "print(list41)"
   ]
  },
  {
   "cell_type": "code",
   "execution_count": 93,
   "id": "1a64ba4d-6be2-4a1b-92cc-199086251abc",
   "metadata": {},
   "outputs": [
    {
     "name": "stdout",
     "output_type": "stream",
     "text": [
      "[3, 3, 5, 6, 4, 6, 9]\n"
     ]
    }
   ],
   "source": [
    "#42. Replace negative numbers in a list with 0.\n",
    "list42 = [-1,-2,3,3,5,6,4,6,9]\n",
    "list43 = [i for i in list42 if i>=0 ]\n",
    "print(list43)"
   ]
  },
  {
   "cell_type": "code",
   "execution_count": 94,
   "id": "46f11aed-665f-4c5f-b687-c71d9758359b",
   "metadata": {},
   "outputs": [
    {
     "name": "stdout",
     "output_type": "stream",
     "text": [
      "['Hello', 'world', 'how', 'are', 'you']\n"
     ]
    }
   ],
   "source": [
    "#43. Convert a string into a list of words.\n",
    "string = \"Hello world how are you\"\n",
    "list44 = string.split()\n",
    "print(list44)"
   ]
  },
  {
   "cell_type": "code",
   "execution_count": 95,
   "id": "0fb13492-11fe-4f5d-8ec2-2e84101349c7",
   "metadata": {},
   "outputs": [
    {
     "name": "stdout",
     "output_type": "stream",
     "text": [
      "Hello world how are you\n"
     ]
    }
   ],
   "source": [
    "#44. Convert a list of words into a string.\n",
    "list_of_words = ['Hello', 'world', 'how', 'are', 'you']\n",
    "string = \" \".join(list_of_words)\n",
    "print(string)"
   ]
  },
  {
   "cell_type": "code",
   "execution_count": 97,
   "id": "ec2447e3-8e03-4c61-b387-bb4e5ada4c89",
   "metadata": {},
   "outputs": [
    {
     "name": "stdout",
     "output_type": "stream",
     "text": [
      "[1, 2, 4, 8, 16]\n"
     ]
    }
   ],
   "source": [
    "#45. Create a list of the first `n` powers of 2.\n",
    "n=5\n",
    "list45 = [2**i for i in range(n)]\n",
    "print(list45)"
   ]
  },
  {
   "cell_type": "code",
   "execution_count": 103,
   "id": "4787cf0b-1b12-42e4-ba6d-e92aa511dc1c",
   "metadata": {},
   "outputs": [
    {
     "name": "stdout",
     "output_type": "stream",
     "text": [
      "Hello\n"
     ]
    }
   ],
   "source": [
    "#46. Find the longest string in a list of strings.\n",
    "list_of_strings=[\"Hello\",\"hi\",\"I\"]\n",
    "print(max(list_of_strings,key=len))"
   ]
  },
  {
   "cell_type": "code",
   "execution_count": 106,
   "id": "241321f1-ef6f-4645-a00b-94d08d05235d",
   "metadata": {},
   "outputs": [
    {
     "name": "stdout",
     "output_type": "stream",
     "text": [
      "i\n"
     ]
    }
   ],
   "source": [
    "#47. Find the shortest string in a list of strings.\n",
    "list_of_strings=[\"Hello\",\"hi\",\"i\"]\n",
    "print(min(list_of_strings,key=len))"
   ]
  },
  {
   "cell_type": "code",
   "execution_count": 109,
   "id": "4fb5a638-5a81-4b8e-9381-7bc41a262c7f",
   "metadata": {},
   "outputs": [
    {
     "data": {
      "text/plain": [
       "[1, 3, 6, 10, 15]"
      ]
     },
     "execution_count": 109,
     "metadata": {},
     "output_type": "execute_result"
    }
   ],
   "source": [
    "#48. Create a list of the first `n` triangular numbers.\n",
    "n=5\n",
    "list46=[]\n",
    "for i in range(1,n+1):\n",
    "    sum=0\n",
    "    for j in range(1,i+1):\n",
    "        sum=sum+j\n",
    "    list46.append(sum)    \n",
    "list46"
   ]
  },
  {
   "cell_type": "code",
   "execution_count": 45,
   "id": "bede251a-efe0-4394-8abb-75adb2dbd944",
   "metadata": {},
   "outputs": [
    {
     "name": "stdout",
     "output_type": "stream",
     "text": [
      "List contains another list as a subsequence\n"
     ]
    }
   ],
   "source": [
    "#49. Check if a list contains another list as a subsequence.\n",
    "list47=  [1, 2, 3, 4, 5, 6, 7]\n",
    "list48= [2, 4, 6]\n",
    "j=0\n",
    "for i in list47:\n",
    "    if len(list48)>j and list48[j]==i:\n",
    "        j+=1\n",
    "\n",
    "if j==len(list48):\n",
    "    print(\"List contains another list as a subsequence\")\n",
    "else:\n",
    "    print(\"List doesn't contains another list as a subsequence\")"
   ]
  },
  {
   "cell_type": "code",
   "execution_count": 49,
   "id": "aaa3ac64-1f58-45c8-921d-74bd45a615e8",
   "metadata": {},
   "outputs": [
    {
     "name": "stdout",
     "output_type": "stream",
     "text": [
      "List after swap: [2, 1, 3, 4, 5, 6]\n"
     ]
    }
   ],
   "source": [
    "#50. Swap two elements in a list by their indices.\n",
    "list49 = [1,2,3,4,5,6]\n",
    "swap_e1_index = 0\n",
    "swap_e2_index = 1\n",
    "temp = list49[swap_e1_index]\n",
    "list49[swap_e1_index]=list49[swap_e2_index]\n",
    "list49[swap_e2_index]=temp\n",
    "print(\"List after swap:\",list49)"
   ]
  },
  {
   "cell_type": "markdown",
   "id": "7a844284-fc04-4dda-97ca-d67c4a310ae9",
   "metadata": {},
   "source": [
    "# Tuple Based Practice Problem :----------------------------\n"
   ]
  },
  {
   "cell_type": "code",
   "execution_count": 53,
   "id": "53cefc87-e5b5-4065-8cb2-8f8b986db213",
   "metadata": {},
   "outputs": [
    {
     "name": "stdout",
     "output_type": "stream",
     "text": [
      "(1, 2, 3, 4, 5)\n"
     ]
    }
   ],
   "source": [
    "#1. Create a tuple with integers from 1 to 5.\n",
    "tuple1 = tuple(i for i in range(1,6))\n",
    "print(tuple1)"
   ]
  },
  {
   "cell_type": "code",
   "execution_count": 57,
   "id": "a5328285-765c-4286-82a5-696e8e2e82e6",
   "metadata": {},
   "outputs": [
    {
     "name": "stdout",
     "output_type": "stream",
     "text": [
      "3\n"
     ]
    }
   ],
   "source": [
    "#2. Access the third element of a tuple.\n",
    "tuple2 = (1,2,3,4,5,6)\n",
    "print(tuple2[2])"
   ]
  },
  {
   "cell_type": "code",
   "execution_count": 58,
   "id": "0e0c9a27-4107-482b-b194-e6752b25c04f",
   "metadata": {},
   "outputs": [
    {
     "name": "stdout",
     "output_type": "stream",
     "text": [
      "length of tuple is : 6\n"
     ]
    }
   ],
   "source": [
    "#3. Find the length of a tuple without using the `len()` function.\n",
    "tuple3 = (1,2,3,4,5,6)\n",
    "length = 0\n",
    "for i in tuple3:\n",
    "    length+=1\n",
    "print(\"length of tuple is :\",length)   "
   ]
  },
  {
   "cell_type": "code",
   "execution_count": 62,
   "id": "d27bcf3d-c67a-4d7a-8939-8bc6c9caa634",
   "metadata": {},
   "outputs": [
    {
     "name": "stdout",
     "output_type": "stream",
     "text": [
      "Count of an element: 2\n"
     ]
    }
   ],
   "source": [
    "#4. Count the occurrences of an element in a tuple.\n",
    "tuple4 = (1,2,3,3,4,3,8,8,9)\n",
    "element= 8\n",
    "print(\"Count of an element:\",tuple4.count(element))"
   ]
  },
  {
   "cell_type": "code",
   "execution_count": 77,
   "id": "ccd14d9c-43d8-41fa-845a-90dd2047999e",
   "metadata": {},
   "outputs": [
    {
     "name": "stdout",
     "output_type": "stream",
     "text": [
      "The index of the first occurrence of an elemnt in a tuple: 1\n"
     ]
    }
   ],
   "source": [
    "#5. Find the index of the first occurrence of an element in a tuple.\n",
    "tuple4 =(1,2,3,3,4,3,8,8,9)\n",
    "element= 2\n",
    "try:\n",
    "    index= tuple4.index(element)\n",
    "    print(\"The index of the first occurrence of an elemnt in a tuple:\",index)\n",
    "except ValueError:\n",
    "    print(\"No occurrence\")"
   ]
  },
  {
   "cell_type": "code",
   "execution_count": 81,
   "id": "b228d00c-a250-4c63-bdc4-f6b281ed31cd",
   "metadata": {},
   "outputs": [
    {
     "name": "stdout",
     "output_type": "stream",
     "text": [
      "Element '3' exists in the tuple\n"
     ]
    }
   ],
   "source": [
    "#6. Check if an element exists in a tuple.\n",
    "tuple5=(1,2,3,4,5)\n",
    "element = 3\n",
    "if element in tuple5:\n",
    "    print(f\"Element '{element}' exists in the tuple\")\n",
    "else:\n",
    "    print(\"Element doesn't exists in the tuple\")"
   ]
  },
  {
   "cell_type": "code",
   "execution_count": 83,
   "id": "3cfe7b11-27ff-4269-8be5-9ff84fe051f9",
   "metadata": {},
   "outputs": [
    {
     "name": "stdout",
     "output_type": "stream",
     "text": [
      "[12, 23, 3, 4, 9]\n"
     ]
    }
   ],
   "source": [
    "#7. Convert a tuple to a list.\n",
    "tuple6 = (12,23,3,4,9)\n",
    "list_ = list(tuple6)\n",
    "print(list_)"
   ]
  },
  {
   "cell_type": "code",
   "execution_count": 84,
   "id": "55e286f7-48b3-497e-88b9-b232de656f3e",
   "metadata": {},
   "outputs": [
    {
     "name": "stdout",
     "output_type": "stream",
     "text": [
      "(12, 23, 3, 4, 9)\n"
     ]
    }
   ],
   "source": [
    "#8. Convert a list to a tuple.\n",
    "list_ = [12, 23, 3, 4, 9]\n",
    "tuple_ = tuple(list_)\n",
    "print(tuple_)"
   ]
  },
  {
   "cell_type": "code",
   "execution_count": 88,
   "id": "13d3a61d-e5fa-4e7c-bb00-7c3b14dac957",
   "metadata": {},
   "outputs": [
    {
     "name": "stdout",
     "output_type": "stream",
     "text": [
      "1\n",
      "2\n",
      "3\n"
     ]
    }
   ],
   "source": [
    "#9. Unpack the elements of a tuple into variables.\n",
    "tuple7 =(1,2,3)\n",
    "var1,var2,var3 =tuple7\n",
    "print(var1)\n",
    "print(var2)\n",
    "print(var3)"
   ]
  },
  {
   "cell_type": "code",
   "execution_count": 89,
   "id": "75026da5-fa3a-4dcb-8a55-a356cacd1602",
   "metadata": {},
   "outputs": [
    {
     "name": "stdout",
     "output_type": "stream",
     "text": [
      "(2, 4, 6, 8, 10)\n"
     ]
    }
   ],
   "source": [
    "#10. Create a tuple of even numbers from 1 to 10.\n",
    "\n",
    "tuple8 = tuple(i for i in range(1,11) if i%2==0)\n",
    "print(tuple8)"
   ]
  },
  {
   "cell_type": "code",
   "execution_count": 90,
   "id": "16ef4a39-1c1f-4678-9ec0-0fdab8641856",
   "metadata": {},
   "outputs": [
    {
     "name": "stdout",
     "output_type": "stream",
     "text": [
      "(1, 3, 5, 7, 9)\n"
     ]
    }
   ],
   "source": [
    "#11. Create a tuple of odd numbers from 1 to 10.\n",
    "tuple9 = tuple(i for i in range(1,11) if i%2!=0)\n",
    "print(tuple9)"
   ]
  },
  {
   "cell_type": "code",
   "execution_count": 94,
   "id": "19bd5799-38d7-4750-b23b-1214fc9a0e81",
   "metadata": {},
   "outputs": [
    {
     "name": "stdout",
     "output_type": "stream",
     "text": [
      "Concatenate two tuples: (1, 2, 3, 4, 5)\n"
     ]
    }
   ],
   "source": [
    "#12. Concatenate two tuples.\n",
    "tuple10 =(1,2,3)\n",
    "tuple11=(4,5)\n",
    "print(\"Concatenated two tuples:\",tuple10+tuple11)"
   ]
  },
  {
   "cell_type": "code",
   "execution_count": 95,
   "id": "36937ce3-bcd1-474a-93aa-73d9978a56c2",
   "metadata": {},
   "outputs": [
    {
     "name": "stdout",
     "output_type": "stream",
     "text": [
      "Repeated tuple: (1, 2, 3, 1, 2, 3, 1, 2, 3)\n"
     ]
    }
   ],
   "source": [
    "#13. Repeat a tuple three times.\n",
    "tuple12 = (1, 2, 3)\n",
    "repeated_tuple = tuple12 * 3\n",
    "print(\"Repeated tuple:\", repeated_tuple)"
   ]
  },
  {
   "cell_type": "code",
   "execution_count": 98,
   "id": "036e4506-6c94-4cf5-a1e6-04187d8fb18e",
   "metadata": {},
   "outputs": [
    {
     "name": "stdout",
     "output_type": "stream",
     "text": [
      "Tuple is not empty\n"
     ]
    }
   ],
   "source": [
    "#14. Check if a tuple is empty.\n",
    "tuple13 =(1)\n",
    "if not tuple13:\n",
    "    print(\"Tuple is empty\")\n",
    "else:\n",
    "    print(\"Tuple is not empty\")"
   ]
  },
  {
   "cell_type": "code",
   "execution_count": 102,
   "id": "7578fc85-3180-472d-8496-6bdbfa396b22",
   "metadata": {},
   "outputs": [
    {
     "name": "stdout",
     "output_type": "stream",
     "text": [
      "Nested tuple: (1, 2, (3, 4, 5), 6, (7, 8))\n"
     ]
    }
   ],
   "source": [
    "#15. Create a nested tuple.\n",
    "tuple14 = (1, 2, (3, 4, 5), 6, (7, 8))\n",
    "print(\"Nested tuple:\", tuple14)\n"
   ]
  },
  {
   "cell_type": "code",
   "execution_count": 107,
   "id": "30194673-0589-456b-a5d6-c24aadaa3685",
   "metadata": {},
   "outputs": [
    {
     "name": "stdout",
     "output_type": "stream",
     "text": [
      "first_element: 1\n"
     ]
    }
   ],
   "source": [
    "#16. Access the first element of a nested tuple.\n",
    "tuple15 = (1, 2, (3, 4, 5), 6, (7, 8))\n",
    "first_element = tuple15[0]\n",
    "print(\"first_element:\",first_element)"
   ]
  },
  {
   "cell_type": "code",
   "execution_count": 113,
   "id": "59f4a02d-8908-4477-8dea-9740996f1f4b",
   "metadata": {},
   "outputs": [
    {
     "name": "stdout",
     "output_type": "stream",
     "text": [
      "(1,)\n"
     ]
    }
   ],
   "source": [
    "#17. Create a tuple with a single element.\n",
    "tuple16 =(1,)\n",
    "print(tuple16)"
   ]
  },
  {
   "cell_type": "code",
   "execution_count": 114,
   "id": "5372615e-96bf-4ff4-8762-62cc0443b64e",
   "metadata": {},
   "outputs": [
    {
     "name": "stdout",
     "output_type": "stream",
     "text": [
      "The two tuples are equal.\n"
     ]
    }
   ],
   "source": [
    "#18. Compare two tuples.\n",
    "tuple17 = (1, 2, 3)\n",
    "tuple18 = (1, 2, 3)\n",
    "\n",
    "if tuple17 == tuple18:\n",
    "    print(\"The two tuples are equal.\")\n",
    "else:\n",
    "    print(\"The two tuples are not equal.\")\n"
   ]
  },
  {
   "cell_type": "code",
   "execution_count": 126,
   "id": "3da91465-7923-4924-9ee1-3c0ab185c607",
   "metadata": {},
   "outputs": [],
   "source": [
    "#19. Delete a tuple.\n",
    "tuple19 =(1,2)\n",
    "del tuple19"
   ]
  },
  {
   "cell_type": "code",
   "execution_count": 127,
   "id": "da9746a4-55ba-4813-8602-fc97012e37fc",
   "metadata": {},
   "outputs": [
    {
     "name": "stdout",
     "output_type": "stream",
     "text": [
      "(2, 3, 4)\n"
     ]
    }
   ],
   "source": [
    "#20. Slice a tuple.\n",
    "tuple20 =(1,2,3,4,5,6,7,8,9,10)\n",
    "tuple21 = tuple20[1:4]\n",
    "print(tuple21)"
   ]
  },
  {
   "cell_type": "code",
   "execution_count": 132,
   "id": "f30995ac-9b69-4b46-a135-16da82b8bbc1",
   "metadata": {},
   "outputs": [
    {
     "name": "stdout",
     "output_type": "stream",
     "text": [
      "Max value in a tuple: 56\n"
     ]
    }
   ],
   "source": [
    "#21. Find the maximum value in a tuple.\n",
    "tuple21=(1,2,3,4,56)\n",
    "print(\"Max value in a tuple:\",max(tuple21))"
   ]
  },
  {
   "cell_type": "code",
   "execution_count": 133,
   "id": "ac057dd0-04ba-430c-ac59-91abf427ed6c",
   "metadata": {},
   "outputs": [
    {
     "name": "stdout",
     "output_type": "stream",
     "text": [
      "Min value in a tuple: 1\n"
     ]
    }
   ],
   "source": [
    "#22. Find the minimum value in a tuple.\n",
    "tuple21=(1,2,3,4,56)\n",
    "print(\"Min value in a tuple:\",min(tuple21))"
   ]
  },
  {
   "cell_type": "code",
   "execution_count": 134,
   "id": "12e43d1b-285d-46ed-8ba9-8669aba75da1",
   "metadata": {},
   "outputs": [
    {
     "name": "stdout",
     "output_type": "stream",
     "text": [
      "('h', 'e', 'l', 'l', 'o')\n"
     ]
    }
   ],
   "source": [
    "#23. Convert a string to a tuple of characters.\n",
    "string22 = \"hello\"\n",
    "tuple22= tuple(string22)\n",
    "print(tuple22)"
   ]
  },
  {
   "cell_type": "code",
   "execution_count": 135,
   "id": "885d73fa-7b04-4c56-a405-be9d7026d77d",
   "metadata": {},
   "outputs": [
    {
     "name": "stdout",
     "output_type": "stream",
     "text": [
      "hello\n"
     ]
    }
   ],
   "source": [
    "#24. Convert a tuple of characters to a string.\n",
    "tuple23 = ('h', 'e', 'l', 'l', 'o')\n",
    "string23 = \"\".join(tuple23)\n",
    "print(string23)"
   ]
  },
  {
   "cell_type": "code",
   "execution_count": 136,
   "id": "b985c970-e9e0-4523-9824-a8b1197a0759",
   "metadata": {},
   "outputs": [
    {
     "name": "stdout",
     "output_type": "stream",
     "text": [
      "(1, 'Hello', 3.14, [1, 2, 3])\n"
     ]
    }
   ],
   "source": [
    "#25. Create a tuple from multiple data types.\n",
    "tuple24 = (1, \"Hello\", 3.14, [1, 2, 3])\n",
    "print(tuple24)"
   ]
  },
  {
   "cell_type": "code",
   "execution_count": 137,
   "id": "2bb40007-3c3d-479e-96d9-9045685b483b",
   "metadata": {},
   "outputs": [
    {
     "name": "stdout",
     "output_type": "stream",
     "text": [
      "Tuples are identical\n"
     ]
    }
   ],
   "source": [
    "#26. Check if two tuples are identical.\n",
    "tuple25 = (1, 2, 3)\n",
    "tuple26 = (1, 2, 3)\n",
    "\n",
    "if tuple25 == tuple26:\n",
    "    print(\"Tuples are identical\")\n",
    "else:\n",
    "    print(\"Tuples are not identical\")\n",
    "\n"
   ]
  },
  {
   "cell_type": "code",
   "execution_count": 140,
   "id": "1a820f03-ed82-44ad-b30d-ab51ccf9b9d2",
   "metadata": {},
   "outputs": [
    {
     "name": "stdout",
     "output_type": "stream",
     "text": [
      "Tuple in asc sorted:(1, 2, 3, 22, 44, 44, 66, 66, 754), Tuple in desc sorted(754, 66, 66, 44, 44, 22, 3, 2, 1)\n"
     ]
    }
   ],
   "source": [
    "#27. Sort the elements of a tuple.\n",
    "tuple27 = (1,2,3,66,44,22,44,66,754)\n",
    "tuple_27_ascending = tuple(sorted(list(tuple27)))\n",
    "tuple_27_descending = tuple(sorted(list(tuple27),reverse=True))\n",
    "print(f\"Tuple in asc sorted:{tuple_27_ascending}, Tuple in desc sorted{tuple_27_descending}\")"
   ]
  },
  {
   "cell_type": "code",
   "execution_count": 151,
   "id": "65fe4cfd-98b6-4466-91ef-df348a1bce80",
   "metadata": {},
   "outputs": [
    {
     "name": "stdout",
     "output_type": "stream",
     "text": [
      "('1', '2', '3', '4', '5', '6')\n"
     ]
    }
   ],
   "source": [
    "#28. Convert a tuple of integers to a tuple of strings.\n",
    "tuple28 = (1,2,3,4,5,6)\n",
    "list_28=list(tuple28)\n",
    "for i in range (len(list_28)):\n",
    "    list_28[i]=str(list_28[i])\n",
    "tuple28=tuple(list_28)\n",
    "print(tuple28)"
   ]
  },
  {
   "cell_type": "code",
   "execution_count": 153,
   "id": "98f400e9-696b-4eb8-b725-501d422ba779",
   "metadata": {},
   "outputs": [
    {
     "name": "stdout",
     "output_type": "stream",
     "text": [
      "(1, 2, 3, 4, 5, 6)\n"
     ]
    }
   ],
   "source": [
    "#29. Convert a tuple of strings to a tuple of integers.\n",
    "tuple29 = ('1', '2', '3', '4', '5', '6')\n",
    "tuple30 = tuple(int(i) for i in tuple29)\n",
    "print(tuple30)"
   ]
  },
  {
   "cell_type": "code",
   "execution_count": 155,
   "id": "1d4fa2eb-cc81-4f1c-a7fe-05d5bf9af136",
   "metadata": {},
   "outputs": [
    {
     "name": "stdout",
     "output_type": "stream",
     "text": [
      "Merged tuple: (1, 2, 3, 4, 5, 6)\n"
     ]
    }
   ],
   "source": [
    "#30. Merge two tuples.\n",
    "tuple31 = (1,2,3)\n",
    "tuple32=(4,5,6)\n",
    "print(\"Merged tuple:\",tuple31+tuple32)"
   ]
  },
  {
   "cell_type": "code",
   "execution_count": 176,
   "id": "5a17b607-a930-4a10-b42e-aac7023bfd95",
   "metadata": {},
   "outputs": [
    {
     "name": "stdout",
     "output_type": "stream",
     "text": [
      "Flattened tuple: (1, 2, 1, 2, 3, 1, 2)\n"
     ]
    }
   ],
   "source": [
    "#31. Flatten a nested tuple.\n",
    "def flatten(t):\n",
    "    list_t=[]\n",
    "    for item in t:\n",
    "        if isinstance(item,tuple):\n",
    "            list_t.extend(convert(item))\n",
    "        else:\n",
    "            list_t.append(item)\n",
    "            \n",
    "    return list_t\n",
    "\n",
    "tuple33 = (1,2,(1,2,3,(1,2)))\n",
    "tuple34 =tuple(flatten(tuple33))\n",
    "print(\"Flattened tuple:\",tuple34)"
   ]
  },
  {
   "cell_type": "code",
   "execution_count": 198,
   "id": "634923d8-432c-43cc-9e3f-52540954d74d",
   "metadata": {},
   "outputs": [
    {
     "name": "stdout",
     "output_type": "stream",
     "text": [
      "Tuple of the first 5 prime numbers: (2, 3, 5, 7, 11)\n"
     ]
    }
   ],
   "source": [
    "#32. Create a tuple of the first 5 prime numbers.\n",
    "\n",
    "def is_prime(num):\n",
    "    if num<=1:\n",
    "        return False\n",
    "    for i in range(2,int(num**0.5)+1):\n",
    "            if num%i==0:\n",
    "                return False\n",
    "    return True\n",
    "n=1\n",
    "i=2\n",
    "list_prime=[]\n",
    "while(n<=5):\n",
    "    if is_prime(i):\n",
    "        list_prime.append(i)\n",
    "        n+=1\n",
    "    i+=1\n",
    "   \n",
    "tuple35 =tuple(list_prime)\n",
    "print(\"Tuple of the first 5 prime numbers:\",tuple35)\n",
    "        "
   ]
  },
  {
   "cell_type": "code",
   "execution_count": 202,
   "id": "d16b4ef9-f10e-4cfb-af43-ba1a47687546",
   "metadata": {},
   "outputs": [
    {
     "name": "stdout",
     "output_type": "stream",
     "text": [
      "Tuple is palindrome\n"
     ]
    }
   ],
   "source": [
    "#33. Check if a tuple is a palindrome.\n",
    "tuple36 = (1,2,3,4,3,2,1)\n",
    "if tuple36[::-1]==tuple36:\n",
    "    print(\"Tuple is palindrome\")\n",
    "else:\n",
    "    print(\"Tuple is not palindrome\")"
   ]
  },
  {
   "cell_type": "code",
   "execution_count": 203,
   "id": "53d653b2-0dd4-40f5-99ff-e0dd6b501858",
   "metadata": {},
   "outputs": [
    {
     "name": "stdout",
     "output_type": "stream",
     "text": [
      "(1, 4, 9, 16, 25)\n"
     ]
    }
   ],
   "source": [
    "#34. Create a tuple of squares of numbers from 1 to 5.\n",
    "tuple37 = tuple(i**2 for i in range(1,6))\n",
    "print(tuple37)"
   ]
  },
  {
   "cell_type": "code",
   "execution_count": 205,
   "id": "cd26bac2-745c-498b-9605-8747d95cc402",
   "metadata": {},
   "outputs": [
    {
     "name": "stdout",
     "output_type": "stream",
     "text": [
      "(2, 4, 6, 8, 10)\n"
     ]
    }
   ],
   "source": [
    "#35. Filter out all even numbers from a tuple.\n",
    "tuple38 = (1,2,3,4,5,6,7,8,9,10)\n",
    "tuple39 = tuple(filter(lambda x: x%2==0,tuple38))\n",
    "print(tuple39)"
   ]
  },
  {
   "cell_type": "code",
   "execution_count": 206,
   "id": "aee3c7a0-08e6-42f8-80e0-f46864c539b0",
   "metadata": {},
   "outputs": [
    {
     "name": "stdout",
     "output_type": "stream",
     "text": [
      "(2, 4, 6, 8, 10, 12, 14, 16, 18, 20)\n"
     ]
    }
   ],
   "source": [
    "#36. Multiply all elements in a tuple by 2.\n",
    "tuple39 = (1,2,3,4,5,6,7,8,9,10)\n",
    "tuple40 = tuple(map(lambda x:x*2,tuple39))\n",
    "print(tuple40)"
   ]
  },
  {
   "cell_type": "code",
   "execution_count": 220,
   "id": "a293716f-caf7-4044-90ed-fedd4e48f4c9",
   "metadata": {},
   "outputs": [
    {
     "name": "stdout",
     "output_type": "stream",
     "text": [
      "Tuple Of Random Numbers: (34, 90, 12, 73, 73)\n"
     ]
    }
   ],
   "source": [
    "#37. Create a tuple of random numbers.\n",
    "import random\n",
    "\n",
    "tuple41=tuple(random.randint(1,100) for i in range(5))\n",
    "print(\"Tuple Of Random Numbers:\",tuple41)\n",
    "    "
   ]
  },
  {
   "cell_type": "code",
   "execution_count": 19,
   "id": "cda45c1f-c89a-4b65-90aa-a1e208e28eff",
   "metadata": {},
   "outputs": [
    {
     "name": "stdout",
     "output_type": "stream",
     "text": [
      "Tuple is sorted in ascending order\n"
     ]
    }
   ],
   "source": [
    "#38. Check if a tuple is sorted.\n",
    "tuple42= (1,2,3)\n",
    "list_ = list(tuple42)\n",
    "if sorted(list_)==list_:\n",
    "    print(\"Tuple is sorted in ascending order\")\n",
    "elif sorted(list_,reverse=True)==list_:\n",
    "    print(\"Tuple is sorted in descending order\")\n",
    "else:\n",
    "    print(\"Tuple is not sorted\")"
   ]
  },
  {
   "cell_type": "code",
   "execution_count": 49,
   "id": "7f5e218f-c28c-447c-baeb-fcbe12f3fab7",
   "metadata": {},
   "outputs": [
    {
     "name": "stdout",
     "output_type": "stream",
     "text": [
      "Rotated tuple(left) is: (2, 3, 4, 5, 6, 1)\n"
     ]
    }
   ],
   "source": [
    "#39. Rotate a tuple to the left by `n` positions.\n",
    "n=1\n",
    "tuple43 = (1,2,3,4,5,6)\n",
    "list_43 = list(tuple43)\n",
    "r=list_43[n:]\n",
    "l=list_43[:n]\n",
    "r.extend(l)\n",
    "r = tuple(r)\n",
    "print(\"Rotated tuple(left) is:\",r)\n",
    "\n",
    "\n"
   ]
  },
  {
   "cell_type": "code",
   "execution_count": 48,
   "id": "e42694c8-5b8c-4d03-951c-7f8f2c6b466a",
   "metadata": {},
   "outputs": [
    {
     "name": "stdout",
     "output_type": "stream",
     "text": [
      "Rotated tuple(right) is: (6, 1, 2, 3, 4, 5)\n"
     ]
    }
   ],
   "source": [
    "#40. Rotate a tuple to the right by `n` positions.\n",
    "n=1\n",
    "tuple43 = (1,2,3,4,5,6)\n",
    "list_43 = list(tuple43)\n",
    "l=list_43[:len(list_43)-n]\n",
    "r=list_43[len(list_43)-n:]\n",
    "r.extend(l)\n",
    "r = tuple(r)\n",
    "print(\"Rotated tuple(right) is:\",r)\n"
   ]
  },
  {
   "cell_type": "code",
   "execution_count": 4,
   "id": "3467369a-e9b3-47f0-8e15-479dc9e6ec4a",
   "metadata": {},
   "outputs": [
    {
     "name": "stdout",
     "output_type": "stream",
     "text": [
      "Tuple of the first 5 Fibonacci numbers (0, 1, 1, 2, 3)\n"
     ]
    }
   ],
   "source": [
    "#41. Create a tuple of the first 5 Fibonacci numbers.\n",
    "def fib(num):\n",
    "    if num<=1:\n",
    "        return num\n",
    "    else:\n",
    "        return fib(num-1)+fib(num-2)\n",
    "\n",
    "tuple44 = tuple(fib(num) for num in range(0,5))\n",
    "print(\"Tuple of the first 5 Fibonacci numbers\",tuple44)"
   ]
  },
  {
   "cell_type": "code",
   "execution_count": 10,
   "id": "23359fcd-b5e3-4659-90aa-34320328fe26",
   "metadata": {},
   "outputs": [
    {
     "name": "stdin",
     "output_type": "stream",
     "text": [
      "Enter inputs seperated by spaces: 1 2 3 4 5 6\n"
     ]
    },
    {
     "name": "stdout",
     "output_type": "stream",
     "text": [
      "('1', '2', '3', '4', '5', '6')\n"
     ]
    }
   ],
   "source": [
    "#42. Create a tuple from user input.\n",
    "tuple45 = tuple(input(\"Enter inputs seperated by spaces:\").split())\n",
    "print(tuple45)\n"
   ]
  },
  {
   "cell_type": "code",
   "execution_count": 19,
   "id": "1b554d58-fcce-43b7-984b-83ca1dec6b3c",
   "metadata": {},
   "outputs": [
    {
     "name": "stdin",
     "output_type": "stream",
     "text": [
      "Enter swap position1 index: 0\n",
      "Enter swap position2 index: 4\n"
     ]
    },
    {
     "name": "stdout",
     "output_type": "stream",
     "text": [
      "After swapping: [5, 2, 3, 4, 1]\n"
     ]
    }
   ],
   "source": [
    "#43. Swap two elements in a tuple.\n",
    "tuple46 = (1,2,3,4,5)\n",
    "list_tuple46 = list(tuple46)\n",
    "swap_po1,swap_po2 = int(input(\"Enter swap position1 index:\")),int(input(\"Enter swap position2 index:\"))\n",
    "if swap_po1<len(list_tuple46) and swap_po2<len(list_tuple46):\n",
    "    temp=list_tuple46[swap_po1]\n",
    "    list_tuple46[swap_po1]=list_tuple46[swap_po2]\n",
    "    list_tuple46[swap_po2]=temp\n",
    "    print(\"After swapping:\",list_tuple46)\n",
    "else:\n",
    "    print(\"Error in swapping\")\n",
    "    "
   ]
  },
  {
   "cell_type": "code",
   "execution_count": 21,
   "id": "c624ebdc-642e-4cc0-b95f-63e7efc1c817",
   "metadata": {},
   "outputs": [
    {
     "name": "stdout",
     "output_type": "stream",
     "text": [
      "Reversed tuple: (6, 5, 4, 3, 2, 1)\n"
     ]
    }
   ],
   "source": [
    "#44. Reverse the elements of a tuple.\n",
    "tuple47 =(1,2,3,4,5,6)\n",
    "list_tuple47 = list(tuple47)\n",
    "rev_tuple47 = tuple(list_tuple47[::-1])\n",
    "print(\"Reversed tuple:\",rev_tuple47)"
   ]
  },
  {
   "cell_type": "code",
   "execution_count": 22,
   "id": "15cf7c7f-4f4d-4465-9a56-1f03930d6891",
   "metadata": {},
   "outputs": [
    {
     "name": "stdout",
     "output_type": "stream",
     "text": [
      "(1, 2, 4, 8, 16)\n"
     ]
    }
   ],
   "source": [
    "#45. Create a tuple of the first `n` powers of 2.\n",
    "n=5\n",
    "tuple48 = tuple(2**i for i in range(n))\n",
    "print(tuple48)"
   ]
  },
  {
   "cell_type": "code",
   "execution_count": 25,
   "id": "4cf77d82-0652-4a88-881e-bb77c32a8390",
   "metadata": {},
   "outputs": [
    {
     "name": "stdout",
     "output_type": "stream",
     "text": [
      "Longest string in a tuple of strings: Hello\n"
     ]
    }
   ],
   "source": [
    "#46. Find the longest string in a tuple of strings.\n",
    "tuple49 = (\"Hello\",\"hi\",\"I\")\n",
    "max_len = max(tuple49,key=len)\n",
    "print(\"Longest string in a tuple of strings:\",max_len)"
   ]
  },
  {
   "cell_type": "code",
   "execution_count": 27,
   "id": "2a80f961-bf72-4fa5-bb2a-db8fff3db6f0",
   "metadata": {},
   "outputs": [
    {
     "name": "stdout",
     "output_type": "stream",
     "text": [
      "Shortest string in a tuple of strings: I\n"
     ]
    }
   ],
   "source": [
    "#47. Find the shortest string in a tuple of strings.\n",
    "tuple49 = (\"Hello\",\"hi\",\"I\")\n",
    "min_len = min(tuple49,key=len)\n",
    "print(\"Shortest string in a tuple of strings:\",min_len)"
   ]
  },
  {
   "cell_type": "code",
   "execution_count": 37,
   "id": "59000cd8-c10d-4f63-866c-a419dc5fda19",
   "metadata": {},
   "outputs": [
    {
     "name": "stdin",
     "output_type": "stream",
     "text": [
      "Enter n value: 4\n"
     ]
    },
    {
     "name": "stdout",
     "output_type": "stream",
     "text": [
      "First n triangular numbers: (1, 3, 6, 10)\n"
     ]
    }
   ],
   "source": [
    "#48. Create a tuple of the first `n` triangular numbers.\n",
    "import functools as f\n",
    "def sum_nums(n):\n",
    "    return f.reduce(lambda a,b:a+b,list(range(1,n+1)))\n",
    "\n",
    "num = int(input(\"Enter n value:\"))\n",
    "tuple50 = tuple(sum_nums(i) for i in range(1,num+1) )\n",
    "print(\"First n triangular numbers:\",tuple50)"
   ]
  },
  {
   "cell_type": "code",
   "execution_count": 43,
   "id": "4f481bfa-0ff8-41b4-8f90-af81f7e3894a",
   "metadata": {},
   "outputs": [
    {
     "name": "stdout",
     "output_type": "stream",
     "text": [
      "Tuple contains another tuple as a subsequence\n"
     ]
    }
   ],
   "source": [
    "#49. Check if a tuple contains another tuple as a subsequence.\n",
    "tuple51 =(1,2,3,4,5,6,7)\n",
    "tuple52 =(1,2,7)\n",
    "j=0\n",
    "for i in tuple51:\n",
    "    if j<len(tuple52) and tuple52[j]==i:\n",
    "        j+=1\n",
    "if j==len(tuple52):\n",
    "    print(\"Tuple contains another tuple as a subsequence\")\n",
    "else:\n",
    "    print(\"Tuple doesn't contains another tuple as a subsequence\")\n"
   ]
  },
  {
   "cell_type": "code",
   "execution_count": 52,
   "id": "5b29932e-4fb7-4cdf-89e0-890c27316f84",
   "metadata": {},
   "outputs": [
    {
     "name": "stdout",
     "output_type": "stream",
     "text": [
      "(1, 0, 1, 0, 1)\n"
     ]
    }
   ],
   "source": [
    "#50. Create a tuple of alternating 1s and 0s of length `n`.\n",
    "n=5\n",
    "tuple53 = tuple(1 if i%2!=0 else 0 for i in range(1,n+1))\n",
    "print(tuple53)"
   ]
  },
  {
   "cell_type": "markdown",
   "id": "f6bd8444-81e8-4060-8ccf-8402517348ba",
   "metadata": {},
   "source": [
    "# Set Based Practice Problem :-----------------------------\n",
    "\n"
   ]
  },
  {
   "cell_type": "code",
   "execution_count": 2,
   "id": "bb59a244-c5d2-4a9b-acac-83b4c82a75b3",
   "metadata": {},
   "outputs": [
    {
     "name": "stdout",
     "output_type": "stream",
     "text": [
      "{1, 2, 3, 4, 5}\n"
     ]
    }
   ],
   "source": [
    "#1. Create a set with integers from 1 to 5.\n",
    "n=5\n",
    "set1 = set(i for i in range(1,n+1))\n",
    "print(set1)"
   ]
  },
  {
   "cell_type": "code",
   "execution_count": 6,
   "id": "3df326e8-56aa-4aff-9136-305edbc32c05",
   "metadata": {},
   "outputs": [
    {
     "name": "stdin",
     "output_type": "stream",
     "text": [
      "Enter a element to add in  set: 7\n"
     ]
    },
    {
     "name": "stdout",
     "output_type": "stream",
     "text": [
      "{1, 2, 3, 4, 7}\n"
     ]
    }
   ],
   "source": [
    "#2. Add an element to a set.\n",
    "set2={1,2,3,4}\n",
    "add= int(input(\"Enter a element to add in  set:\"))\n",
    "set2.add(add)\n",
    "print(set2)"
   ]
  },
  {
   "cell_type": "code",
   "execution_count": 8,
   "id": "bc3e1423-abf5-4a0e-9e15-fd80273fc3ed",
   "metadata": {},
   "outputs": [
    {
     "name": "stdin",
     "output_type": "stream",
     "text": [
      "Enter an element to remove from set{1, 2, 3, 4, 5, 6}: 3\n"
     ]
    },
    {
     "name": "stdout",
     "output_type": "stream",
     "text": [
      "{1, 2, 4, 5, 6}\n"
     ]
    }
   ],
   "source": [
    "#3. Remove an element from a set.\n",
    "set3 = {1,2,3,4,5,6}\n",
    "r= int(input(f\"Enter an element to remove from set{set3}:\"))\n",
    "set3.remove(r)\n",
    "print(set3)"
   ]
  },
  {
   "cell_type": "code",
   "execution_count": 10,
   "id": "8f75e216-7675-46e0-ad48-06012add24e4",
   "metadata": {},
   "outputs": [
    {
     "name": "stdin",
     "output_type": "stream",
     "text": [
      "Enter a element to check if exists: 9\n"
     ]
    },
    {
     "name": "stdout",
     "output_type": "stream",
     "text": [
      "Element doesn't exists\n"
     ]
    }
   ],
   "source": [
    "#4. Check if an element exists in a set.\n",
    "set4= {1,2,3,4,5,6}\n",
    "i = int(input(\"Enter a element to check if exists:\"))\n",
    "if i in set4:\n",
    "    print(\"Element exists in the set\")\n",
    "else:\n",
    "    print(\"Element doesn't exists\")"
   ]
  },
  {
   "cell_type": "code",
   "execution_count": 12,
   "id": "3546f669-c0af-40b9-9d54-5c9039856f34",
   "metadata": {},
   "outputs": [
    {
     "name": "stdout",
     "output_type": "stream",
     "text": [
      "length of a set: 8\n"
     ]
    }
   ],
   "source": [
    "#5. Find the length of a set without using the `len()` function.\n",
    "set5 = {1,2,3,4,5,6,7,8}\n",
    "count=0\n",
    "for i in set5:\n",
    "    count+=1\n",
    "print(\"length of a set:\",count)    \n",
    "    "
   ]
  },
  {
   "cell_type": "code",
   "execution_count": 15,
   "id": "987121a8-8fd0-4538-94ae-e672813f33ed",
   "metadata": {},
   "outputs": [
    {
     "name": "stdout",
     "output_type": "stream",
     "text": [
      "set()\n"
     ]
    }
   ],
   "source": [
    "#6. Clear all elements from a set.\n",
    "set6 = {1,2,3,4,5,6}\n",
    "set6.clear()\n",
    "print(set6)"
   ]
  },
  {
   "cell_type": "code",
   "execution_count": 16,
   "id": "e3d0ed16-1f37-424f-ac4a-dfad683eddd7",
   "metadata": {},
   "outputs": [
    {
     "name": "stdout",
     "output_type": "stream",
     "text": [
      "{2, 4, 6, 8, 10}\n"
     ]
    }
   ],
   "source": [
    "#7. Create a set of even numbers from 1 to 10.\n",
    "set7 = {1,2,3,4,5}\n",
    "n=10\n",
    "set_even = set(i for i in range(1,n+1) if i%2==0)\n",
    "print(set_even)"
   ]
  },
  {
   "cell_type": "code",
   "execution_count": 17,
   "id": "d2e2c282-71e7-49d1-9648-59f5d65612ff",
   "metadata": {},
   "outputs": [
    {
     "name": "stdout",
     "output_type": "stream",
     "text": [
      "{1, 3, 5, 7, 9}\n"
     ]
    }
   ],
   "source": [
    "#8. Create a set of odd numbers from 1 to 10.\n",
    "set8 = {1,2,3,4,5}\n",
    "n=10\n",
    "set_odd = set(i for i in range(1,n+1) if i%2!=0)\n",
    "print(set_odd)"
   ]
  },
  {
   "cell_type": "code",
   "execution_count": 19,
   "id": "d04a58c9-1f3e-45d3-9e94-fe637448730f",
   "metadata": {},
   "outputs": [
    {
     "name": "stdout",
     "output_type": "stream",
     "text": [
      "Union is {1, 2, 3, 4, 5, 6, 7, 8, 9}\n"
     ]
    }
   ],
   "source": [
    "#9. Find the union of two sets.\n",
    "set9= {1,2,3,4,5}\n",
    "set10={6,7,8,9,2,1}\n",
    "set11=set9.union(set10)\n",
    "print(\"Union is\",set11)"
   ]
  },
  {
   "cell_type": "code",
   "execution_count": 20,
   "id": "d2faca9d-ed4c-4917-8897-cb1ecf3a3c99",
   "metadata": {},
   "outputs": [
    {
     "name": "stdout",
     "output_type": "stream",
     "text": [
      "Intersection is {1, 2}\n"
     ]
    }
   ],
   "source": [
    "#10. Find the intersection of two sets.\n",
    "set11= {1,2,3,4,5}\n",
    "set12={6,7,8,9,2,1}\n",
    "set13=set11.intersection(set12)\n",
    "print(\"Intersection is\",set13)"
   ]
  },
  {
   "cell_type": "code",
   "execution_count": 21,
   "id": "56603760-7131-4508-bbea-51001768cb53",
   "metadata": {},
   "outputs": [
    {
     "name": "stdout",
     "output_type": "stream",
     "text": [
      "Difference between two sets: {8, 5, 6, 7}\n"
     ]
    }
   ],
   "source": [
    "#11. Find the difference between two sets.\n",
    "set14 ={1,2,3,4,5,6,7,8}\n",
    "set15 ={1,2,3,4}\n",
    "diff_set=set14-set15\n",
    "print(\"Difference between two sets:\",diff_set)"
   ]
  },
  {
   "cell_type": "code",
   "execution_count": 29,
   "id": "ce9d5fa9-ae71-41cf-8961-8cfb66fb2cb7",
   "metadata": {},
   "outputs": [
    {
     "name": "stdout",
     "output_type": "stream",
     "text": [
      "{1, 2, 3} is subset of {1, 2, 3, 4, 5, 6}\n"
     ]
    }
   ],
   "source": [
    "#12. Check if a set is a subset of another set.\n",
    "set16 ={1,2,3,4,5,6}\n",
    "set17 ={1,2,3}\n",
    "if set17.issubset(set16):\n",
    "    print(f\"{set17} is subset of {set16}\")\n",
    "else:\n",
    "    print(f\"{set17} is not subset of {set16}\")"
   ]
  },
  {
   "cell_type": "code",
   "execution_count": 31,
   "id": "417168c4-e927-409f-a765-743ae587dd76",
   "metadata": {},
   "outputs": [
    {
     "name": "stdout",
     "output_type": "stream",
     "text": [
      "{1, 2, 3, 4, 5} is superset of {1, 2}\n"
     ]
    }
   ],
   "source": [
    "#13. Check if a set is a superset of another set.\n",
    "set18 = {1,2,3,4,5}\n",
    "set19 = {1,2}\n",
    "if set18.issuperset(set19):\n",
    "    print(f\"{set18} is superset of {set19}\")\n",
    "else:\n",
    "    print(f\"{set18} is not superset of {set19}\")"
   ]
  },
  {
   "cell_type": "code",
   "execution_count": 33,
   "id": "9f1f81f2-0d9c-40ca-8afd-efcf4f68e95b",
   "metadata": {},
   "outputs": [
    {
     "name": "stdout",
     "output_type": "stream",
     "text": [
      "{1, 2, 3, 4, 6, 'hello', (1, 2, 3)}\n"
     ]
    }
   ],
   "source": [
    "#14. Create a set from a list.\n",
    "list20 =[1,2,3,4,6,(1,2,3),\"hello\"]\n",
    "set20 =set(list20)\n",
    "print(set20)"
   ]
  },
  {
   "cell_type": "code",
   "execution_count": 36,
   "id": "b37ff586-b743-4687-8a90-87a5bc95d956",
   "metadata": {},
   "outputs": [
    {
     "name": "stdout",
     "output_type": "stream",
     "text": [
      "[1, 2, 3, 'hello']\n"
     ]
    }
   ],
   "source": [
    "#15. Convert a set to a list.\n",
    "set21 ={1,2,3,\"hello\"}\n",
    "list_set = list(set21)\n",
    "print(list_set)"
   ]
  },
  {
   "cell_type": "code",
   "execution_count": 65,
   "id": "ff42b9fe-cbc3-4d1d-83da-211a833b768c",
   "metadata": {},
   "outputs": [
    {
     "name": "stdout",
     "output_type": "stream",
     "text": [
      "Removed element: 1\n",
      "Updated set: {2, 3, 4, 5}\n"
     ]
    }
   ],
   "source": [
    "#16. Remove a random element from a set.\n",
    "set22 = {1, 2, 3, 4, 5}\n",
    "if set22:\n",
    "    removed_element = set22.pop()\n",
    "    print(\"Removed element:\", removed_element)\n",
    "    print(\"Updated set:\", set22)\n",
    "else:\n",
    "    print(\"The set is empty.\")\n"
   ]
  },
  {
   "cell_type": "code",
   "execution_count": 64,
   "id": "4942c097-b9dc-4e05-aef3-9139cbe87012",
   "metadata": {},
   "outputs": [
    {
     "name": "stdout",
     "output_type": "stream",
     "text": [
      "Popped element: 1\n",
      "Updated set: {2, 3, 4, 5}\n"
     ]
    }
   ],
   "source": [
    "#17. Pop an element from a set.\n",
    "set23 = {1, 2, 3, 4, 5}\n",
    "popped_element = set23.pop()\n",
    "print(\"Popped element:\", popped_element)\n",
    "print(\"Updated set:\", set23)"
   ]
  },
  {
   "cell_type": "code",
   "execution_count": 68,
   "id": "2d48013b-73c8-4f99-9c6c-3824fb6786ca",
   "metadata": {},
   "outputs": [
    {
     "name": "stdout",
     "output_type": "stream",
     "text": [
      "Two sets have no elements in common\n"
     ]
    }
   ],
   "source": [
    "#18. Check if two sets have no elements in common.\n",
    "set24 ={1,2,3,4}\n",
    "set25={5,6,7}\n",
    "if not set24.intersection(set25):\n",
    "    print(\"Two sets have no elements in common\")\n",
    "else:\n",
    "    print(\"Two sets have elements in common\")"
   ]
  },
  {
   "cell_type": "code",
   "execution_count": 69,
   "id": "00145760-5571-4e39-9f01-fc30307952e3",
   "metadata": {},
   "outputs": [
    {
     "name": "stdout",
     "output_type": "stream",
     "text": [
      "Symmetric difference between two sets are: {3, 4, 5, 6, 7, 8, 9}\n"
     ]
    }
   ],
   "source": [
    "#19. Find the symmetric difference between two sets.\n",
    "set26 = {1,2,3,4,5,6}\n",
    "set27 = {1,2,7,8,9}\n",
    "sym_diff = set26.symmetric_difference(set27)\n",
    "print(f\"Symmetric difference between two sets are:\",sym_diff)"
   ]
  },
  {
   "cell_type": "code",
   "execution_count": 74,
   "id": "21377cf5-5c2e-4bbd-9211-f54de2969287",
   "metadata": {},
   "outputs": [
    {
     "name": "stdout",
     "output_type": "stream",
     "text": [
      "Updated set28: {1, 2, 3, 4, 5, 9}\n"
     ]
    }
   ],
   "source": [
    "#20. Update a set with elements from another set.\n",
    "set28 = {1, 2, 9}\n",
    "set29 = {3, 4, 5}\n",
    "set28.update(set29)\n",
    "print(\"Updated set28:\", set28)\n"
   ]
  },
  {
   "cell_type": "code",
   "execution_count": 17,
   "id": "65d2e701-5bbc-4ac5-aa92-7582384d7528",
   "metadata": {},
   "outputs": [
    {
     "name": "stdout",
     "output_type": "stream",
     "text": [
      "set of the first 5 prime numbers: {2, 3, 5, 7, 11}\n"
     ]
    }
   ],
   "source": [
    "#21. Create a set of the first 5 prime numbers.\n",
    "def prime_check(num):\n",
    "    if num<=1:\n",
    "        return False\n",
    "    for i in range(2,int(num**0.5)+1):\n",
    "        if num%i==0:\n",
    "            return False\n",
    "    return True\n",
    "\n",
    "count=5\n",
    "i=2\n",
    "n=1\n",
    "List30=[]\n",
    "while(n<=count):\n",
    "    if prime_check(i):\n",
    "        List30.append(i)\n",
    "        n+=1\n",
    "    i+=1  \n",
    "set30=set(List30)\n",
    "print(\"set of the first 5 prime numbers:\",set30)"
   ]
  },
  {
   "cell_type": "code",
   "execution_count": 18,
   "id": "4124264f-e5e1-4b68-9cb5-f98221b95ce7",
   "metadata": {},
   "outputs": [
    {
     "name": "stdout",
     "output_type": "stream",
     "text": [
      "The sets are identical.\n"
     ]
    }
   ],
   "source": [
    "#22. Check if two sets are identical.\n",
    "set31 = {1, 2, 3}\n",
    "set32 = {3, 2, 1}\n",
    "\n",
    "if set31 == set32:\n",
    "    print(\"The sets are identical.\")\n",
    "else:\n",
    "    print(\"The sets are not identical.\")\n"
   ]
  },
  {
   "cell_type": "code",
   "execution_count": 21,
   "id": "1980d0ad-47bb-4363-af5b-884e82245c2d",
   "metadata": {},
   "outputs": [
    {
     "name": "stdout",
     "output_type": "stream",
     "text": [
      "frozenset({1, 2, 3, 4, 5})\n"
     ]
    }
   ],
   "source": [
    "#23. Create a frozen set.\n",
    "set33 = {1, 2, 3, 4, 5}\n",
    "frozen_set = frozenset(set33)\n",
    "print(frozen_set)"
   ]
  },
  {
   "cell_type": "code",
   "execution_count": 25,
   "id": "80b001db-1789-4d60-9ffc-855484d69325",
   "metadata": {},
   "outputs": [
    {
     "name": "stdout",
     "output_type": "stream",
     "text": [
      "set is not disjoint with another set.\n"
     ]
    }
   ],
   "source": [
    "#24. Check if a set is disjoint with another set.\n",
    "set31 = {1, 2, 3}\n",
    "set32 = {3, 2, 1}\n",
    "\n",
    "if set31.isdisjoint(set32):\n",
    "    print(\"set is  disjoint with another set.\")\n",
    "else:\n",
    "    print(\"set is not disjoint with another set.\")\n"
   ]
  },
  {
   "cell_type": "code",
   "execution_count": 26,
   "id": "1e3bc318-512c-4b78-bcb2-55c97caab59f",
   "metadata": {},
   "outputs": [
    {
     "name": "stdout",
     "output_type": "stream",
     "text": [
      "{1, 4, 9, 16, 25}\n"
     ]
    }
   ],
   "source": [
    "#25. Create a set of squares of numbers from 1 to 5.\n",
    "\n",
    "n=5\n",
    "set33= set(i**2 for i in range(1,n+1))\n",
    "print(set33)"
   ]
  },
  {
   "cell_type": "code",
   "execution_count": 28,
   "id": "bd3fbe0e-a3ef-48b2-8646-ff3460a5ca0d",
   "metadata": {},
   "outputs": [
    {
     "name": "stdout",
     "output_type": "stream",
     "text": [
      "{2, 4, 6, 8, 10}\n"
     ]
    }
   ],
   "source": [
    "#26. Filter out all even numbers from a set.\n",
    "set34 ={1,2,3,4,5,6,7,8,9,10}\n",
    "set_filtered = set(filter(lambda x: x%2==0,set34))\n",
    "print(set_filtered)"
   ]
  },
  {
   "cell_type": "code",
   "execution_count": 29,
   "id": "476f410b-9c26-4706-87a7-e9bb2fdeacc2",
   "metadata": {},
   "outputs": [
    {
     "name": "stdout",
     "output_type": "stream",
     "text": [
      "{2, 4, 6, 8, 10, 12, 14, 16, 18, 20}\n"
     ]
    }
   ],
   "source": [
    "#27. Multiply all elements in a set by 2.\n",
    "set35 ={1,2,3,4,5,6,7,8,9,10}\n",
    "set_modified = set(map(lambda x: x*2,set34))\n",
    "print(set_modified)"
   ]
  },
  {
   "cell_type": "code",
   "execution_count": 30,
   "id": "f102ecdb-7566-4e90-af15-ec6c8988aaf2",
   "metadata": {},
   "outputs": [
    {
     "name": "stdout",
     "output_type": "stream",
     "text": [
      "{97, 1, 71, 9, 75, 15, 85, 24, 60, 63}\n"
     ]
    }
   ],
   "source": [
    "#28. Create a set of random numbers.\n",
    "import random\n",
    "set36 = set(random.randint(0,100) for i in range(11))\n",
    "print(set36)"
   ]
  },
  {
   "cell_type": "code",
   "execution_count": 33,
   "id": "27d23c10-2e6c-433f-8579-bcc46e6455b0",
   "metadata": {},
   "outputs": [
    {
     "name": "stdout",
     "output_type": "stream",
     "text": [
      "Set is not empty\n"
     ]
    }
   ],
   "source": [
    "#29. Check if a set is empty.\n",
    "set37 = {1,2,3}\n",
    "if not set37:\n",
    "    print(\"Set is empty\")\n",
    "else:\n",
    "    print(\"Set is not empty\")"
   ]
  },
  {
   "cell_type": "code",
   "execution_count": 39,
   "id": "64fdd63d-c04b-4cc9-9191-3bc49759c050",
   "metadata": {},
   "outputs": [
    {
     "name": "stdout",
     "output_type": "stream",
     "text": [
      "{frozenset({1, 2, 3}), frozenset({4, 5, 6}), frozenset({8, 9, 7})}\n"
     ]
    }
   ],
   "source": [
    "#30. Create a nested set (hint: use frozenset).\n",
    "nested_set = {frozenset({1, 2, 3}), frozenset({4, 5, 6}), frozenset({7, 8, 9})}\n",
    "print(nested_set)"
   ]
  },
  {
   "cell_type": "code",
   "execution_count": 46,
   "id": "aac8d870-675b-41ee-b41a-6b82fe5b7ad5",
   "metadata": {},
   "outputs": [
    {
     "name": "stdout",
     "output_type": "stream",
     "text": [
      "After discarding set is: {1, 3, 4, 5}\n"
     ]
    }
   ],
   "source": [
    "#31. Remove an element from a set using the discard method.\n",
    "\n",
    "set38={1,2,3,4,5}\n",
    "remove_element = 2\n",
    "set38.discard(remove_element)\n",
    "print(\"After discarding set is:\",set38)\n"
   ]
  },
  {
   "cell_type": "code",
   "execution_count": 49,
   "id": "0f49f5b6-0a71-47c0-abaf-8d5a7ee81e1a",
   "metadata": {},
   "outputs": [
    {
     "name": "stdout",
     "output_type": "stream",
     "text": [
      "Set39 is not equal to Set40\n",
      "Set40 is a subset of Set39\n",
      "Set39 is a superset of Set40\n"
     ]
    }
   ],
   "source": [
    "#32. Compare two sets.\n",
    "set39 = {1, 2, 3, 4, 5}\n",
    "set40 = {3, 4, 5}\n",
    "if set39 == set40:\n",
    "    print(\"Set39 is equal to Set40\")\n",
    "else:\n",
    "    print(\"Set39 is not equal to Set40\")\n",
    "\n",
    "# Check if set40 is a subset of set39\n",
    "if set40.issubset(set39):\n",
    "    print(\"Set40 is a subset of Set39\")\n",
    "else:\n",
    "    print(\"Set40 is not a subset of Set39\")\n",
    "\n",
    "# Check if set1 is a superset of set2\n",
    "if set39.issuperset(set40):\n",
    "    print(\"Set39 is a superset of Set40\")\n",
    "else:\n",
    "    print(\"Set39 is not a superset of Set40\")\n"
   ]
  },
  {
   "cell_type": "code",
   "execution_count": 50,
   "id": "cc8670f8-6f94-4eec-bad8-a88d8f595031",
   "metadata": {},
   "outputs": [
    {
     "name": "stdout",
     "output_type": "stream",
     "text": [
      "{'o', 'l', 'e', 'h'}\n"
     ]
    }
   ],
   "source": [
    "#33. Create a set from a string.\n",
    "string = \"hello\"\n",
    "set41 = set(string)\n",
    "print(set41)"
   ]
  },
  {
   "cell_type": "code",
   "execution_count": 71,
   "id": "146451e8-1fa5-4a3e-ba79-981d593cb0f5",
   "metadata": {},
   "outputs": [
    {
     "name": "stdout",
     "output_type": "stream",
     "text": [
      "{1, 2, 3, 4, 5, 7}\n"
     ]
    }
   ],
   "source": [
    "#34. Convert a set of strings to a set of integers.\n",
    "set42 = {'1','2','3','4','5','7'}\n",
    "try:\n",
    "    set43 = set(map(lambda i:int(i),set42))\n",
    "    print(set43)\n",
    "except ValueError as e:\n",
    "    print(\"Error in conversion\")"
   ]
  },
  {
   "cell_type": "code",
   "execution_count": 73,
   "id": "43ab2384-375d-4bbc-8917-0b7d922a91f6",
   "metadata": {},
   "outputs": [
    {
     "name": "stdout",
     "output_type": "stream",
     "text": [
      "{'7', '4', '1', '2', '3', '5'}\n"
     ]
    }
   ],
   "source": [
    "#35. Convert a set of integers to a set of strings.\n",
    "set44 = {1, 2, 3, 4, 5, 7}\n",
    "set44 = set(map(lambda i:str(i),set42))\n",
    "print(set44)\n"
   ]
  },
  {
   "cell_type": "code",
   "execution_count": 78,
   "id": "11ad95f1-9ea4-4a66-b371-b519168e432d",
   "metadata": {},
   "outputs": [
    {
     "name": "stdout",
     "output_type": "stream",
     "text": [
      "{1, 2, 3, 4, 'Hello'}\n"
     ]
    }
   ],
   "source": [
    "#36. Create a set from a tuple.\n",
    "tuple45 = (1,2,3,\"Hello\",4)\n",
    "try:\n",
    "    set45 = set(tuple45)\n",
    "    print(set45)\n",
    "except Exception as e:\n",
    "    print(\"Error in conversion\")"
   ]
  },
  {
   "cell_type": "code",
   "execution_count": 81,
   "id": "939ea782-2e46-49d9-a5be-e124294af670",
   "metadata": {},
   "outputs": [
    {
     "name": "stdout",
     "output_type": "stream",
     "text": [
      "(1, 2, 3, 4, 5, 'hi')\n"
     ]
    }
   ],
   "source": [
    "#37. Convert a set to a tuple.\n",
    "set46 = {1,2,3,4,5,\"hi\"}\n",
    "tuple46 = tuple(set46)\n",
    "print(tuple46)"
   ]
  },
  {
   "cell_type": "code",
   "execution_count": 82,
   "id": "3a74e188-5c87-4989-ab21-c06ca661096e",
   "metadata": {},
   "outputs": [
    {
     "name": "stdout",
     "output_type": "stream",
     "text": [
      "Maximum value in a set: 8\n"
     ]
    }
   ],
   "source": [
    "#38. Find the maximum value in a set.\n",
    "set47 ={1,2,3,4,5,6,7,8}\n",
    "print(\"Maximum value in a set:\",max(set47))"
   ]
  },
  {
   "cell_type": "code",
   "execution_count": 84,
   "id": "91e46ebc-b975-4127-b4ec-cd6d0b6a8b6a",
   "metadata": {},
   "outputs": [
    {
     "name": "stdout",
     "output_type": "stream",
     "text": [
      "Minimum value in a set: 1\n"
     ]
    }
   ],
   "source": [
    "#39. Find the minimum value in a set.\n",
    "set48 ={1,2,3,4,5,6,7,8}\n",
    "print(\"Minimum value in a set:\",min(set47))"
   ]
  },
  {
   "cell_type": "code",
   "execution_count": 85,
   "id": "cf532e7a-c6ec-4567-992d-0c0579112494",
   "metadata": {},
   "outputs": [
    {
     "name": "stdin",
     "output_type": "stream",
     "text": [
      "Enter set values seperated by spaces: 1 2 3 4 hi 4\n"
     ]
    },
    {
     "data": {
      "text/plain": [
       "{'1', '2', '3', '4', 'hi'}"
      ]
     },
     "execution_count": 85,
     "metadata": {},
     "output_type": "execute_result"
    }
   ],
   "source": [
    "#40. Create a set from user input.\n",
    "set49 = set(input(\"Enter set values seperated by spaces:\").split())\n",
    "print(set49)"
   ]
  },
  {
   "cell_type": "code",
   "execution_count": 86,
   "id": "1e576263-cc78-452a-81ab-05586b28bf95",
   "metadata": {},
   "outputs": [
    {
     "name": "stdout",
     "output_type": "stream",
     "text": [
      "Intersection of two sets is not empty\n"
     ]
    }
   ],
   "source": [
    "#41. Check if the intersection of two sets is empty.\n",
    "set50 = {1,2,3,4,5,6}\n",
    "set51 ={1,2,3}\n",
    "if set50.isdisjoint(set51):\n",
    "    print(\"Intersection of two sets is empty\")\n",
    "else:\n",
    "    print(\"Intersection of two sets is not empty\")"
   ]
  },
  {
   "cell_type": "code",
   "execution_count": 98,
   "id": "7da43b45-f0db-4e9d-80fc-e070bfa70066",
   "metadata": {},
   "outputs": [
    {
     "name": "stdout",
     "output_type": "stream",
     "text": [
      "In list: [1, 1, 2, 3, 5]\n",
      "In set: {1, 2, 3, 5}\n"
     ]
    }
   ],
   "source": [
    "#42. Create a set of the first 5 Fibonacci numbers.\n",
    "def fibo(num):\n",
    "    if num<=1:\n",
    "        return num\n",
    "    else:\n",
    "        return fibo(num-1)+fibo(num-2)\n",
    "\n",
    "List52 = list(fibo(num) for num in range(1,6))\n",
    "print(\"In list:\",List52)\n",
    "print(\"In set:\",set(List52))\n",
    "    "
   ]
  },
  {
   "cell_type": "code",
   "execution_count": 100,
   "id": "027b96fd-c696-4f98-baeb-06f6398ab466",
   "metadata": {},
   "outputs": [
    {
     "name": "stdout",
     "output_type": "stream",
     "text": [
      "List without duplicates: [1, 2, 3, 4, 5, 6]\n"
     ]
    }
   ],
   "source": [
    "#43. Remove duplicates from a list using sets.\n",
    "list53 =[1,2,3,4,3,4,5,2,5,6]\n",
    "list54 = list(set(list53))\n",
    "print(\"List without duplicates:\",list54)\n"
   ]
  },
  {
   "cell_type": "code",
   "execution_count": 110,
   "id": "753aaa2b-e3e4-4598-b7f4-ee6cde254dd7",
   "metadata": {},
   "outputs": [
    {
     "name": "stdout",
     "output_type": "stream",
     "text": [
      "Two sets have the same elements, regardless of their count\n"
     ]
    }
   ],
   "source": [
    "#44. Check if two sets have the same elements, regardless of their count.\n",
    "set55 = {1,2,3,4,5,5,2,1}\n",
    "set56 = {1,2,3,4,5}\n",
    "if set55==set56:\n",
    "    print(\"Two sets have the same elements, regardless of their count\")\n",
    "else:\n",
    "    print(\"Two sets doesn't have the same elements, regardless of their count\")"
   ]
  },
  {
   "cell_type": "code",
   "execution_count": 112,
   "id": "bc6d8de7-ac3e-425c-9ccb-e7a97c0c3173",
   "metadata": {},
   "outputs": [
    {
     "name": "stdout",
     "output_type": "stream",
     "text": [
      "{1, 2, 4, 8, 16}\n"
     ]
    }
   ],
   "source": [
    "#45. Create a set of the first `n` powers of 2.\n",
    "\n",
    "n=5\n",
    "set57 = set(2**i for i in range(0,n))\n",
    "print(set57)"
   ]
  },
  {
   "cell_type": "code",
   "execution_count": 113,
   "id": "4f11a0a4-50d5-4cbf-afbd-c7df06cbe844",
   "metadata": {},
   "outputs": [
    {
     "name": "stdout",
     "output_type": "stream",
     "text": [
      "common elements are: {8, 1, 5}\n"
     ]
    }
   ],
   "source": [
    "#46. Find the common elements between a set and a list.\n",
    "set58 ={1,23,4,5,6,7,8,8}\n",
    "list58 = [1,2,3,5,8,8,5]\n",
    "common_element = set58.intersection(set(list58))\n",
    "print(\"common elements are:\",common_element)"
   ]
  },
  {
   "cell_type": "code",
   "execution_count": 123,
   "id": "4561f88b-be48-422b-9528-ff94c6e0f4c5",
   "metadata": {},
   "outputs": [
    {
     "name": "stdout",
     "output_type": "stream",
     "text": [
      "{1, 3, 6, 10, 15}\n"
     ]
    }
   ],
   "source": [
    "#47. Create a set of the first `n` triangular numbers.\n",
    "n=5\n",
    "set_triangular_no = set(int(num * (num + 1) / 2) for num in range(1,n+1))\n",
    "print(set_triangular_no)"
   ]
  },
  {
   "cell_type": "code",
   "execution_count": 124,
   "id": "bfc3c9af-6fd1-4357-bf81-01ed304c2adc",
   "metadata": {},
   "outputs": [
    {
     "name": "stdout",
     "output_type": "stream",
     "text": [
      "{1, 2, 3, 4, 5} is subset of {1, 2, 3, 4, 5, 6, 7}\n"
     ]
    }
   ],
   "source": [
    "#48. Check if a set contains another set as a subset.\n",
    "set59 = {1,2,3,4,5,6,7}\n",
    "set60 ={1,2,3,4,5}\n",
    "if set60.issubset(set59):\n",
    "    print(f\"{set60} is subset of {set59}\")\n",
    "else:\n",
    "        print(f\"{set60} is not subset of {set59}\")"
   ]
  },
  {
   "cell_type": "code",
   "execution_count": 125,
   "id": "aa79f228-8f08-4904-859f-4cb371fbb9a4",
   "metadata": {},
   "outputs": [
    {
     "name": "stdout",
     "output_type": "stream",
     "text": [
      "{0, 1}\n"
     ]
    }
   ],
   "source": [
    "#49. Create a set of alternating 1s and 0s of length `n`.\n",
    "n = 5\n",
    "alternating_set = set(i % 2 for i in range(n))\n",
    "print(alternating_set)"
   ]
  },
  {
   "cell_type": "code",
   "execution_count": 128,
   "id": "7f5db277-3868-4b61-98ae-2884ce7c0fec",
   "metadata": {},
   "outputs": [
    {
     "name": "stdout",
     "output_type": "stream",
     "text": [
      "{1, 2, 3, 4, 5, 6, 7, 8, 9, 10, 11}\n"
     ]
    }
   ],
   "source": [
    "#50. Merge multiple sets into one.\n",
    "set61 ={1,2,3,4,5}\n",
    "set62={6,7,8}\n",
    "set63={9,10,11}\n",
    "set_merge = set61.union(set62,set63)\n",
    "print(set_merge)"
   ]
  }
 ],
 "metadata": {
  "kernelspec": {
   "display_name": "Python 3 (ipykernel)",
   "language": "python",
   "name": "python3"
  },
  "language_info": {
   "codemirror_mode": {
    "name": "ipython",
    "version": 3
   },
   "file_extension": ".py",
   "mimetype": "text/x-python",
   "name": "python",
   "nbconvert_exporter": "python",
   "pygments_lexer": "ipython3",
   "version": "3.10.8"
  }
 },
 "nbformat": 4,
 "nbformat_minor": 5
}
